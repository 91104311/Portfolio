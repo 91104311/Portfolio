{
 "cells": [
  {
   "cell_type": "markdown",
   "metadata": {},
   "source": [
    "#  Initialization\n",
    "\n"
   ]
  },
  {
   "cell_type": "markdown",
   "metadata": {},
   "source": [
    " ## Import Libraries"
   ]
  },
  {
   "cell_type": "code",
   "execution_count": 8,
   "metadata": {},
   "outputs": [],
   "source": [
    "import pandas as pd\n",
    "import numpy as np\n",
    "import matplotlib.pyplot as plt\n",
    "from matplotlib.ticker import StrMethodFormatter\n",
    "%matplotlib inline\n",
    "import scipy.stats as stats\n",
    "import seaborn as sns\n",
    "from imblearn.over_sampling import SMOTE\n",
    "from imblearn.over_sampling import RandomOverSampler\n",
    "from sklearn.model_selection import train_test_split\n",
    "from sklearn.preprocessing import StandardScaler\n",
    "from sklearn import metrics\n",
    "from sklearn.metrics import confusion_matrix\n",
    "from sklearn.metrics import roc_curve, auc\n",
    "from sklearn.metrics import classification_report\n",
    "from sklearn.neighbors import KNeighborsClassifier\n",
    "from sklearn.ensemble import RandomForestClassifier\n",
    "from sklearn.ensemble import GradientBoostingClassifier\n",
    "from imblearn.over_sampling import SMOTE\n",
    "from sklearn.metrics import classification_report, confusion_matrix, accuracy_score, roc_auc_score, precision_recall_fscore_support, roc_curve, f1_score\n",
    "from sklearn.linear_model import LogisticRegression\n",
    "from sklearn.model_selection import GridSearchCV\n",
    "from sklearn.metrics import classification_report, confusion_matrix, accuracy_score, roc_auc_score, precision_recall_fscore_support, roc_curve, f1_score\n",
    "from sklearn.metrics import roc_auc_score \n",
    "from sklearn.model_selection import cross_validate\n"
   ]
  },
  {
   "cell_type": "markdown",
   "metadata": {},
   "source": [
    "## Loading Data\n",
    "\n"
   ]
  },
  {
   "cell_type": "code",
   "execution_count": 9,
   "metadata": {},
   "outputs": [],
   "source": [
    "#To run the code, you can change this path to the desired one\n",
    "df=pd.read_json(r\"/Users/..../Desktop/transactions.txt\",lines=True)"
   ]
  },
  {
   "cell_type": "code",
   "execution_count": 10,
   "metadata": {},
   "outputs": [],
   "source": [
    "#Substitute empty values with Nan\n",
    "df=df.replace('',np.NaN)"
   ]
  },
  {
   "cell_type": "code",
   "execution_count": 11,
   "metadata": {},
   "outputs": [
    {
     "data": {
      "text/plain": [
       "(786363, 29)"
      ]
     },
     "execution_count": 11,
     "metadata": {},
     "output_type": "execute_result"
    }
   ],
   "source": [
    "df.shape"
   ]
  },
  {
   "cell_type": "markdown",
   "metadata": {},
   "source": [
    "\n",
    "We can see our data has 786,363 instances and each one of them has 29 features"
   ]
  },
  {
   "cell_type": "code",
   "execution_count": 12,
   "metadata": {},
   "outputs": [],
   "source": [
    "#df.head()"
   ]
  },
  {
   "cell_type": "markdown",
   "metadata": {},
   "source": [
    "\n",
    "Below we can see some basic statistics from our data set."
   ]
  },
  {
   "cell_type": "code",
   "execution_count": 13,
   "metadata": {},
   "outputs": [
    {
     "data": {
      "text/html": [
       "<div>\n",
       "<style scoped>\n",
       "    .dataframe tbody tr th:only-of-type {\n",
       "        vertical-align: middle;\n",
       "    }\n",
       "\n",
       "    .dataframe tbody tr th {\n",
       "        vertical-align: top;\n",
       "    }\n",
       "\n",
       "    .dataframe thead th {\n",
       "        text-align: right;\n",
       "    }\n",
       "</style>\n",
       "<table border=\"1\" class=\"dataframe\">\n",
       "  <thead>\n",
       "    <tr style=\"text-align: right;\">\n",
       "      <th></th>\n",
       "      <th>creditLimit</th>\n",
       "      <th>availableMoney</th>\n",
       "      <th>transactionAmount</th>\n",
       "      <th>currentBalance</th>\n",
       "    </tr>\n",
       "  </thead>\n",
       "  <tbody>\n",
       "    <tr>\n",
       "      <th>count</th>\n",
       "      <td>786363.000000</td>\n",
       "      <td>786363.000000</td>\n",
       "      <td>786363.000000</td>\n",
       "      <td>786363.000000</td>\n",
       "    </tr>\n",
       "    <tr>\n",
       "      <th>mean</th>\n",
       "      <td>10759.464459</td>\n",
       "      <td>6250.725369</td>\n",
       "      <td>136.985791</td>\n",
       "      <td>4508.739089</td>\n",
       "    </tr>\n",
       "    <tr>\n",
       "      <th>std</th>\n",
       "      <td>11636.174890</td>\n",
       "      <td>8880.783989</td>\n",
       "      <td>147.725569</td>\n",
       "      <td>6457.442068</td>\n",
       "    </tr>\n",
       "    <tr>\n",
       "      <th>min</th>\n",
       "      <td>250.000000</td>\n",
       "      <td>-1005.630000</td>\n",
       "      <td>0.000000</td>\n",
       "      <td>0.000000</td>\n",
       "    </tr>\n",
       "    <tr>\n",
       "      <th>25%</th>\n",
       "      <td>5000.000000</td>\n",
       "      <td>1077.420000</td>\n",
       "      <td>33.650000</td>\n",
       "      <td>689.910000</td>\n",
       "    </tr>\n",
       "    <tr>\n",
       "      <th>50%</th>\n",
       "      <td>7500.000000</td>\n",
       "      <td>3184.860000</td>\n",
       "      <td>87.900000</td>\n",
       "      <td>2451.760000</td>\n",
       "    </tr>\n",
       "    <tr>\n",
       "      <th>75%</th>\n",
       "      <td>15000.000000</td>\n",
       "      <td>7500.000000</td>\n",
       "      <td>191.480000</td>\n",
       "      <td>5291.095000</td>\n",
       "    </tr>\n",
       "    <tr>\n",
       "      <th>max</th>\n",
       "      <td>50000.000000</td>\n",
       "      <td>50000.000000</td>\n",
       "      <td>2011.540000</td>\n",
       "      <td>47498.810000</td>\n",
       "    </tr>\n",
       "  </tbody>\n",
       "</table>\n",
       "</div>"
      ],
      "text/plain": [
       "         creditLimit  availableMoney  transactionAmount  currentBalance\n",
       "count  786363.000000   786363.000000      786363.000000   786363.000000\n",
       "mean    10759.464459     6250.725369         136.985791     4508.739089\n",
       "std     11636.174890     8880.783989         147.725569     6457.442068\n",
       "min       250.000000    -1005.630000           0.000000        0.000000\n",
       "25%      5000.000000     1077.420000          33.650000      689.910000\n",
       "50%      7500.000000     3184.860000          87.900000     2451.760000\n",
       "75%     15000.000000     7500.000000         191.480000     5291.095000\n",
       "max     50000.000000    50000.000000        2011.540000    47498.810000"
      ]
     },
     "execution_count": 13,
     "metadata": {},
     "output_type": "execute_result"
    }
   ],
   "source": [
    "df[['creditLimit','availableMoney','transactionAmount','currentBalance']].describe()"
   ]
  },
  {
   "cell_type": "markdown",
   "metadata": {},
   "source": [
    "\n",
    "The number of unique values in each column are shown below"
   ]
  },
  {
   "cell_type": "code",
   "execution_count": 14,
   "metadata": {},
   "outputs": [
    {
     "data": {
      "text/plain": [
       "accountNumber                 5000\n",
       "customerId                    5000\n",
       "creditLimit                     10\n",
       "availableMoney              521915\n",
       "transactionDateTime         776637\n",
       "transactionAmount            66038\n",
       "merchantName                  2490\n",
       "acqCountry                       4\n",
       "merchantCountryCode              4\n",
       "posEntryMode                     5\n",
       "posConditionCode                 3\n",
       "merchantCategoryCode            19\n",
       "currentExpDate                 165\n",
       "accountOpenDate               1820\n",
       "dateOfLastAddressChange       2184\n",
       "cardCVV                        899\n",
       "enteredCVV                     976\n",
       "cardLast4Digits               5245\n",
       "transactionType                  3\n",
       "echoBuffer                       0\n",
       "currentBalance              487318\n",
       "merchantCity                     0\n",
       "merchantState                    0\n",
       "merchantZip                      0\n",
       "cardPresent                      2\n",
       "posOnPremises                    0\n",
       "recurringAuthInd                 0\n",
       "expirationDateKeyInMatch         2\n",
       "isFraud                          2\n",
       "dtype: int64"
      ]
     },
     "execution_count": 14,
     "metadata": {},
     "output_type": "execute_result"
    }
   ],
   "source": [
    "df.nunique(axis=0)"
   ]
  },
  {
   "cell_type": "markdown",
   "metadata": {},
   "source": [
    "\n",
    "Now we can see the percentage of Null values in each columns"
   ]
  },
  {
   "cell_type": "code",
   "execution_count": 15,
   "metadata": {},
   "outputs": [
    {
     "data": {
      "text/plain": [
       "accountNumber                 0.00\n",
       "customerId                    0.00\n",
       "creditLimit                   0.00\n",
       "availableMoney                0.00\n",
       "transactionDateTime           0.00\n",
       "transactionAmount             0.00\n",
       "merchantName                  0.00\n",
       "acqCountry                    0.58\n",
       "merchantCountryCode           0.09\n",
       "posEntryMode                  0.52\n",
       "posConditionCode              0.05\n",
       "merchantCategoryCode          0.00\n",
       "currentExpDate                0.00\n",
       "accountOpenDate               0.00\n",
       "dateOfLastAddressChange       0.00\n",
       "cardCVV                       0.00\n",
       "enteredCVV                    0.00\n",
       "cardLast4Digits               0.00\n",
       "transactionType               0.09\n",
       "echoBuffer                  100.00\n",
       "currentBalance                0.00\n",
       "merchantCity                100.00\n",
       "merchantState               100.00\n",
       "merchantZip                 100.00\n",
       "cardPresent                   0.00\n",
       "posOnPremises               100.00\n",
       "recurringAuthInd            100.00\n",
       "expirationDateKeyInMatch      0.00\n",
       "isFraud                       0.00\n",
       "dtype: float64"
      ]
     },
     "execution_count": 15,
     "metadata": {},
     "output_type": "execute_result"
    }
   ],
   "source": [
    "round(df.isnull().sum()*100/len(df),2)\n"
   ]
  },
  {
   "cell_type": "markdown",
   "metadata": {},
   "source": [
    "\n",
    "There are 6 columns that all of their values are Null, so I remove these columns."
   ]
  },
  {
   "cell_type": "code",
   "execution_count": 16,
   "metadata": {},
   "outputs": [],
   "source": [
    "df.drop(['echoBuffer','merchantCity','merchantState','merchantZip','posOnPremises','recurringAuthInd'], axis=1, inplace=True)\n",
    "df=df.reset_index(drop=True)\n"
   ]
  }
 ],
 "metadata": {
  "kernelspec": {
   "display_name": "Python 3",
   "language": "python",
   "name": "python3"
  },
  "language_info": {
   "codemirror_mode": {
    "name": "ipython",
    "version": 3
   },
   "file_extension": ".py",
   "mimetype": "text/x-python",
   "name": "python",
   "nbconvert_exporter": "python",
   "pygments_lexer": "ipython3",
   "version": "3.8.3"
  }
 },
 "nbformat": 4,
 "nbformat_minor": 4
}
