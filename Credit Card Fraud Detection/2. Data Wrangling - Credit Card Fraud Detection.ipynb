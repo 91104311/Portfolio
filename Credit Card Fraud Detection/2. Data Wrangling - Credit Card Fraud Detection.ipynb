{
 "cells": [
  {
   "cell_type": "markdown",
   "metadata": {},
   "source": [
    "# Data Wrangling\n",
    "\n"
   ]
  },
  {
   "cell_type": "markdown",
   "metadata": {},
   "source": [
    "## Transactions"
   ]
  },
  {
   "cell_type": "code",
   "execution_count": 17,
   "metadata": {},
   "outputs": [
    {
     "data": {
      "image/png": "[encoded data removed]",
      "text/plain": [
       "<Figure size 864x576 with 1 Axes>"
      ]
     },
     "metadata": {
      "needs_background": "light"
     },
     "output_type": "display_data"
    }
   ],
   "source": [
    "ax = df.hist(column='transactionAmount', bins=25, grid=False, figsize=(12,8), color='blue',zorder=2,rwidth=0.9)\n",
    "ax = ax[0]\n",
    "for x in ax:\n",
    "    x.set_title(\"\")\n",
    "    x.set_xlabel(\"Transaction Amount\", labelpad=25, weight='bold', size=12)"
   ]
  },
  {
   "cell_type": "code",
   "execution_count": 18,
   "metadata": {},
   "outputs": [
    {
     "data": {
      "text/plain": [
       "0.0"
      ]
     },
     "execution_count": 18,
     "metadata": {},
     "output_type": "execute_result"
    }
   ],
   "source": [
    "df[\"transactionAmount\"].mode().iat[0]"
   ]
  },
  {
   "cell_type": "code",
   "execution_count": 19,
   "metadata": {},
   "outputs": [
    {
     "data": {
      "text/plain": [
       "136.98579095150615"
      ]
     },
     "execution_count": 19,
     "metadata": {},
     "output_type": "execute_result"
    }
   ],
   "source": [
    "df[\"transactionAmount\"].mean()"
   ]
  },
  {
   "cell_type": "code",
   "execution_count": 20,
   "metadata": {},
   "outputs": [
    {
     "data": {
      "text/plain": [
       "87.9"
      ]
     },
     "execution_count": 20,
     "metadata": {},
     "output_type": "execute_result"
    }
   ],
   "source": [
    "df[\"transactionAmount\"].median()"
   ]
  },
  {
   "cell_type": "markdown",
   "metadata": {},
   "source": [
    "The distribution of the transaction amount is heavily right-skewed since the most of transactions are relatively small. The mean value of all transactions is 136.99, the median is 87.9, the mode is 0 and the largest transaction is 2011.54. \n",
    "\n",
    "Because of right-skewed, we may need to determine the best-fit distribution from Weibull family, Gamma family, Chi-square family, Lognormal family, or Power lognormal family. We also may need to consider a normalizing transformation such as the Box-Cox transformation.\n"
   ]
  },
  {
   "cell_type": "markdown",
   "metadata": {},
   "source": [
    "## Duplicate Transactions\n",
    "\n"
   ]
  },
  {
   "cell_type": "markdown",
   "metadata": {},
   "source": [
    "### Reversed Transactions"
   ]
  },
  {
   "cell_type": "markdown",
   "metadata": {},
   "source": [
    "Next step, we want to find reversed transaction."
   ]
  },
  {
   "cell_type": "code",
   "execution_count": 21,
   "metadata": {},
   "outputs": [
    {
     "data": {
      "text/plain": [
       "array(['PURCHASE', 'ADDRESS_VERIFICATION', 'REVERSAL', nan], dtype=object)"
      ]
     },
     "execution_count": 21,
     "metadata": {},
     "output_type": "execute_result"
    }
   ],
   "source": [
    "df['transactionType'].unique()"
   ]
  },
  {
   "cell_type": "markdown",
   "metadata": {},
   "source": [
    "\n",
    "There are 3 types of transactions: PURCHASE, ADDRESS_VERIFICATION, and REVERSAL. Also, dataset misses transaction type for some transactions (0.09% of total transactions)"
   ]
  },
  {
   "cell_type": "code",
   "execution_count": 22,
   "metadata": {},
   "outputs": [],
   "source": [
    "df_reversal=df.loc[df.transactionType=='REVERSAL']\n",
    "df_reversal=df_reversal.reset_index(drop=True)\n",
    "#df_reversal.head()"
   ]
  },
  {
   "cell_type": "code",
   "execution_count": 23,
   "metadata": {},
   "outputs": [
    {
     "data": {
      "text/plain": [
       "20303"
      ]
     },
     "execution_count": 23,
     "metadata": {},
     "output_type": "execute_result"
    }
   ],
   "source": [
    "df_reversal.shape[0]"
   ]
  },
  {
   "cell_type": "code",
   "execution_count": 24,
   "metadata": {},
   "outputs": [
    {
     "data": {
      "text/plain": [
       "2821792.5"
      ]
     },
     "execution_count": 24,
     "metadata": {},
     "output_type": "execute_result"
    }
   ],
   "source": [
    "total_reverse=df_reversal['transactionAmount'].sum()\n",
    "total_reverse"
   ]
  },
  {
   "cell_type": "markdown",
   "metadata": {},
   "source": [
    "\n",
    "There are 20,303 reversed transactions with the total amount of $2,821,792.5\n"
   ]
  },
  {
   "cell_type": "markdown",
   "metadata": {},
   "source": [
    "### Multi-swipe  Transactions"
   ]
  },
  {
   "cell_type": "markdown",
   "metadata": {},
   "source": [
    "Next we find all multi-swipe transactions. We determine transactions as multiple-swipe if there are two transactions have same customer ID, merchant name, transaction amount, and transaction type. However, these transactions should happen within a short time span. In the next step, we want to understand how to define this time period. "
   ]
  },
  {
   "cell_type": "code",
   "execution_count": 25,
   "metadata": {},
   "outputs": [],
   "source": [
    "df['transactionDateTime'] = pd.to_datetime(df['transactionDateTime'])\n",
    "\n",
    "dft=df.copy()\n",
    "\n",
    "dft['time_dif'] = (dft.sort_values(['transactionDateTime'])\n",
    "                       .groupby(['customerId','merchantName', 'transactionAmount','transactionType'], sort=False)['transactionDateTime']\n",
    "                       .diff()\n",
    "                       .dt.total_seconds()/60)"
   ]
  },
  {
   "cell_type": "markdown",
   "metadata": {},
   "source": [
    "\n",
    "We look at the time differences between transactions with the same customer ID, merchant name, transaction amount, and transaction type. In the below plot, we can see most of them happen in less than 10 minutes as we expected. "
   ]
  },
  {
   "cell_type": "code",
   "execution_count": 26,
   "metadata": {},
   "outputs": [
    {
     "data": {
      "image/png": "[encoded data removed]",
      "text/plain": [
       "<Figure size 864x576 with 1 Axes>"
      ]
     },
     "metadata": {
      "needs_background": "light"
     },
     "output_type": "display_data"
    }
   ],
   "source": [
    "ax = dft.hist(column='time_dif', bins=10,range=[0, 60], grid=False, figsize=(12,8), color='blue',zorder=2,rwidth=0.9)\n",
    "ax = ax[0]\n",
    "for x in ax:\n",
    "    x.set_title(\"\")\n",
    "    x.set_xlabel(\"Difference in time between potential Multi-swipe Transactions (Minutes)\",weight='bold', labelpad=25, size=12)"
   ]
  },
  {
   "cell_type": "code",
   "execution_count": 27,
   "metadata": {},
   "outputs": [
    {
     "data": {
      "image/png": "[encoded data removed]",
      "text/plain": [
       "<Figure size 864x576 with 1 Axes>"
      ]
     },
     "metadata": {
      "needs_background": "light"
     },
     "output_type": "display_data"
    }
   ],
   "source": [
    "ax = dft.hist(column='time_dif', bins=8,range=[0, 8], grid=False, figsize=(12,8), color='blue',zorder=2,rwidth=0.9)\n",
    "ax = ax[0]\n",
    "for x in ax:\n",
    "    x.set_title(\"\")\n",
    "    x.set_xlabel(\"Difference in time between potential Multi-swipe Transactions (Minutes)\",weight='bold', labelpad=25, size=12)"
   ]
  },
  {
   "cell_type": "markdown",
   "metadata": {},
   "source": [
    "\n",
    "We plot again these transactions and see that most of them happen in less than 3 miutes. So two transactions are multiple-swipe when they have same customer ID, merchant name, transaction amount, transaction type, and happen within 3 minutes"
   ]
  },
  {
   "cell_type": "code",
   "execution_count": 28,
   "metadata": {},
   "outputs": [],
   "source": [
    "dft['MultiSwipe'] = (dft.sort_values(['transactionDateTime'])\n",
    "                       .groupby(['customerId','merchantName', 'transactionAmount','transactionType'], sort=False)['transactionDateTime']\n",
    "                       .diff()\n",
    "                       .dt.total_seconds()\n",
    "                       .lt(180))\n",
    "\n",
    "df_multi=dft.loc[dft.MultiSwipe==True]\n",
    "df_multi=df_multi.reset_index(drop=True)\n",
    "#df_multi.head()"
   ]
  },
  {
   "cell_type": "code",
   "execution_count": 29,
   "metadata": {},
   "outputs": [
    {
     "data": {
      "text/plain": [
       "7671"
      ]
     },
     "execution_count": 29,
     "metadata": {},
     "output_type": "execute_result"
    }
   ],
   "source": [
    "df_multi.shape[0]"
   ]
  },
  {
   "cell_type": "code",
   "execution_count": 30,
   "metadata": {},
   "outputs": [
    {
     "data": {
      "text/plain": [
       "1102920.99"
      ]
     },
     "execution_count": 30,
     "metadata": {},
     "output_type": "execute_result"
    }
   ],
   "source": [
    "total_multi=df_multi['transactionAmount'].sum()\n",
    "total_multi"
   ]
  },
  {
   "cell_type": "markdown",
   "metadata": {},
   "source": [
    "There are 7,671 multi-swipe transactions with the total amount of $1,102,920.99"
   ]
  }
 ],
 "metadata": {
  "kernelspec": {
   "display_name": "Python 3",
   "language": "python",
   "name": "python3"
  },
  "language_info": {
   "codemirror_mode": {
    "name": "ipython",
    "version": 3
   },
   "file_extension": ".py",
   "mimetype": "text/x-python",
   "name": "python",
   "nbconvert_exporter": "python",
   "pygments_lexer": "ipython3",
   "version": "3.8.3"
  }
 },
 "nbformat": 4,
 "nbformat_minor": 4
}
