{
 "cells": [
  {
   "cell_type": "markdown",
   "metadata": {},
   "source": [
    "# Future Works"
   ]
  },
  {
   "cell_type": "markdown",
   "metadata": {},
   "source": [
    "If I have more time, I could improve our model. \n",
    "- First, I could use different scalining and encoding on our dataset such as log-transformation, Box-Cox transformation, label encoding, and frequency encoding to improve the outcome\n",
    "\n",
    "\n",
    "- Second, I could add other sampling methods like OverSampling or Undersampling to see which sampling methods works better in our model\n",
    "\n",
    "\n",
    "- Third, I could add crossvalidation strategy. Now we saw that AUC for validation set is lower than traning set, and it means our models suffer from overfitting. By adding cross-validaion we can improve overfitting problem.\n",
    "\n",
    "\n",
    "- Fourth, running Hyperparameter tuning for Random Forest. Now because of time limit, I couldn't run Hyperparameter tuning to find the best parameters. I would definitely do that if I have enought time. "
   ]
  }
 ],
 "metadata": {
  "kernelspec": {
   "display_name": "Python 3",
   "language": "python",
   "name": "python3"
  },
  "language_info": {
   "codemirror_mode": {
    "name": "ipython",
    "version": 3
   },
   "file_extension": ".py",
   "mimetype": "text/x-python",
   "name": "python",
   "nbconvert_exporter": "python",
   "pygments_lexer": "ipython3",
   "version": "3.8.3"
  }
 },
 "nbformat": 4,
 "nbformat_minor": 4
}
