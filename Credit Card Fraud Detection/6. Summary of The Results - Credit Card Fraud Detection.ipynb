{
 "cells": [
  {
   "cell_type": "markdown",
   "metadata": {},
   "source": [
    "# Summary of The Results"
   ]
  },
  {
   "cell_type": "markdown",
   "metadata": {},
   "source": [
    "\n",
    "1.Our original dataset: 786,363 instances and each one of them has 29 features\n",
    "    \n",
    "2.Feature Engineering:\n",
    "\n",
    "- Remove Rows:\n",
    "    - We remove duplicates rows including reversal transactionType and multi-swipe transactions.\n",
    "    - Since less than 0.6% of rows have null values, we removed those rows from dataset.\n",
    "    \n",
    "    \n",
    "- Remove Columns: \n",
    "    - All values are Nulls: 'echoBuffer','merchantCity','merchantState','merchantZip','posOnPremises','recurringAuthInd'\n",
    "    - Not Useful: 'accountNumber','customerId','cardLast4Digits','currentBalance' (currentBalance=creditLimit-availableMone and we already have both columns in dataset)\n",
    "    \n",
    "    \n",
    "- New Features: \n",
    "    - CVV_correct: to see if a customer enters right CVV code (based on 'cardCVV' and 'enteredCVV')\n",
    "    - accountOpenDate_days: Number of days since its opening (based on 'accountOpenDate')\n",
    "    - dateOfLastAddressChange_days: Number of days since last address changing (based on 'dateOfLastAddressChange')\n",
    "    - currentExpDate_days: Number of days until expiration date (based on 'currentExpDate')\n",
    "    - tran_day: The day of the datetime in transactions (based on 'transactionDateTime')\n",
    "    - tran_hour: The hours of the datetime in transactions (based on 'transactionDateTime')\n",
    "    \n",
    "    \n",
    "- Convert Bool features to int: \n",
    "    - cardPresent','expirationDateKeyInMatch','isFraud','CVV_correct'\n",
    "    \n",
    "    \n",
    "- Categoical Columns:\n",
    "    - Use One-hot Encoding: 'acqCountry','merchantCountryCode','posEntryMode','posConditionCode','merchantCategoryCode'\n",
    "    \n",
    "    \n",
    "- Numerical Columns:\n",
    "    - Use StandardScaler: 'creditLimit','availableMoney','transactionAmount','accountOpenDate_days','dateOfLastAddressChange_days',\n",
    "         'currentExpDate_days','tran_day','tran_hour'\n",
    "         \n",
    "         \n",
    "3.Split data to train and test\n",
    "\n",
    "\n",
    "4.Use Smote sampling technique on Training set in order to balance the data \n",
    "\n",
    "\n",
    "5.Use different ML models for training: Logistic Regression, Random Forest Classifier, Gradient Boosting, Stochastic Gradient Descent, and Ada Boost Classifier\n",
    "\n",
    "\n",
    "6.Compare different models based on ROC curve and choose Random Forest because of higher AUC on test data. \n",
    "\n",
    "\n",
    "7.Ten most important features that can identify fraudulent transactions based on Random Forest Classifier:\n",
    "\n",
    "   - Transaction Amount\n",
    "   - PosEntryMode = 05\n",
    "   - Card Present\n",
    "   - Credit Limit\n",
    "   - Pos Entry Mode = 09\n",
    "   - Merchant Category Code = 'Fuel' or 'Online Retail' or 'Fastfood' or 'Hotels'\n",
    "   - The Hour that transaction happen (tran_hour)\n",
    "   \n",
    "   \n",
    "8.Hyperparameter tuning for Random Forest"
   ]
  }
 ],
 "metadata": {
  "kernelspec": {
   "display_name": "Python 3",
   "language": "python",
   "name": "python3"
  },
  "language_info": {
   "codemirror_mode": {
    "name": "ipython",
    "version": 3
   },
   "file_extension": ".py",
   "mimetype": "text/x-python",
   "name": "python",
   "nbconvert_exporter": "python",
   "pygments_lexer": "ipython3",
   "version": "3.8.3"
  }
 },
 "nbformat": 4,
 "nbformat_minor": 4
}
