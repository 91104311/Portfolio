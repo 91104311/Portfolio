{
 "cells": [
  {
   "cell_type": "markdown",
   "metadata": {},
   "source": [
    "# Modeling"
   ]
  },
  {
   "cell_type": "markdown",
   "metadata": {},
   "source": [
    "## Splitting"
   ]
  },
  {
   "cell_type": "code",
   "execution_count": 401,
   "metadata": {},
   "outputs": [
    {
     "data": {
      "text/html": [
       "<div>\n",
       "<style scoped>\n",
       "    .dataframe tbody tr th:only-of-type {\n",
       "        vertical-align: middle;\n",
       "    }\n",
       "\n",
       "    .dataframe tbody tr th {\n",
       "        vertical-align: top;\n",
       "    }\n",
       "\n",
       "    .dataframe thead th {\n",
       "        text-align: right;\n",
       "    }\n",
       "</style>\n",
       "<table border=\"1\" class=\"dataframe\">\n",
       "  <thead>\n",
       "    <tr style=\"text-align: right;\">\n",
       "      <th></th>\n",
       "      <th>RENEWAL_DATE_C</th>\n",
       "      <th>IS_WON</th>\n",
       "      <th>Other_Plan</th>\n",
       "      <th>PlanGrid (Admin Console)</th>\n",
       "      <th>PlanGrid (Advanced RFIs)</th>\n",
       "      <th>PlanGrid (Crane - Infinite Sheets)</th>\n",
       "      <th>PlanGrid (Dozer - 5000 Sheets)</th>\n",
       "      <th>PlanGrid (Nailgun - 550 Sheets)</th>\n",
       "      <th>PlanGrid (Submittals - Up to 50 Users)</th>\n",
       "      <th>PlanGrid (Workspaces)</th>\n",
       "      <th>...</th>\n",
       "      <th>field_report</th>\n",
       "      <th>home</th>\n",
       "      <th>issue</th>\n",
       "      <th>link</th>\n",
       "      <th>nav</th>\n",
       "      <th>photo</th>\n",
       "      <th>project</th>\n",
       "      <th>projecthub</th>\n",
       "      <th>sheet</th>\n",
       "      <th>team</th>\n",
       "    </tr>\n",
       "    <tr>\n",
       "      <th>OPPORTUNITY_ID</th>\n",
       "      <th></th>\n",
       "      <th></th>\n",
       "      <th></th>\n",
       "      <th></th>\n",
       "      <th></th>\n",
       "      <th></th>\n",
       "      <th></th>\n",
       "      <th></th>\n",
       "      <th></th>\n",
       "      <th></th>\n",
       "      <th></th>\n",
       "      <th></th>\n",
       "      <th></th>\n",
       "      <th></th>\n",
       "      <th></th>\n",
       "      <th></th>\n",
       "      <th></th>\n",
       "      <th></th>\n",
       "      <th></th>\n",
       "      <th></th>\n",
       "      <th></th>\n",
       "    </tr>\n",
       "  </thead>\n",
       "  <tbody>\n",
       "    <tr>\n",
       "      <th>opp101</th>\n",
       "      <td>2020-04-15 00:00:00</td>\n",
       "      <td>1.0</td>\n",
       "      <td>0</td>\n",
       "      <td>1</td>\n",
       "      <td>0</td>\n",
       "      <td>0</td>\n",
       "      <td>1</td>\n",
       "      <td>0</td>\n",
       "      <td>0</td>\n",
       "      <td>0</td>\n",
       "      <td>...</td>\n",
       "      <td>1.0</td>\n",
       "      <td>0.0</td>\n",
       "      <td>1.0</td>\n",
       "      <td>1.0</td>\n",
       "      <td>1.0</td>\n",
       "      <td>1.0</td>\n",
       "      <td>1.0</td>\n",
       "      <td>0.0</td>\n",
       "      <td>1.0</td>\n",
       "      <td>1.0</td>\n",
       "    </tr>\n",
       "    <tr>\n",
       "      <th>opp103</th>\n",
       "      <td>2020-04-18 00:00:00</td>\n",
       "      <td>1.0</td>\n",
       "      <td>0</td>\n",
       "      <td>0</td>\n",
       "      <td>0</td>\n",
       "      <td>0</td>\n",
       "      <td>1</td>\n",
       "      <td>0</td>\n",
       "      <td>0</td>\n",
       "      <td>0</td>\n",
       "      <td>...</td>\n",
       "      <td>1.0</td>\n",
       "      <td>1.0</td>\n",
       "      <td>1.0</td>\n",
       "      <td>0.0</td>\n",
       "      <td>1.0</td>\n",
       "      <td>1.0</td>\n",
       "      <td>0.0</td>\n",
       "      <td>0.0</td>\n",
       "      <td>0.0</td>\n",
       "      <td>0.0</td>\n",
       "    </tr>\n",
       "    <tr>\n",
       "      <th>opp104</th>\n",
       "      <td>2020-04-07 00:00:00</td>\n",
       "      <td>1.0</td>\n",
       "      <td>0</td>\n",
       "      <td>1</td>\n",
       "      <td>0</td>\n",
       "      <td>1</td>\n",
       "      <td>1</td>\n",
       "      <td>0</td>\n",
       "      <td>0</td>\n",
       "      <td>0</td>\n",
       "      <td>...</td>\n",
       "      <td>0.0</td>\n",
       "      <td>1.0</td>\n",
       "      <td>0.0</td>\n",
       "      <td>0.0</td>\n",
       "      <td>1.0</td>\n",
       "      <td>0.0</td>\n",
       "      <td>0.0</td>\n",
       "      <td>1.0</td>\n",
       "      <td>0.0</td>\n",
       "      <td>1.0</td>\n",
       "    </tr>\n",
       "    <tr>\n",
       "      <th>opp105</th>\n",
       "      <td>2020-04-02 00:00:00</td>\n",
       "      <td>1.0</td>\n",
       "      <td>0</td>\n",
       "      <td>0</td>\n",
       "      <td>0</td>\n",
       "      <td>0</td>\n",
       "      <td>1</td>\n",
       "      <td>0</td>\n",
       "      <td>0</td>\n",
       "      <td>0</td>\n",
       "      <td>...</td>\n",
       "      <td>1.0</td>\n",
       "      <td>1.0</td>\n",
       "      <td>1.0</td>\n",
       "      <td>0.0</td>\n",
       "      <td>1.0</td>\n",
       "      <td>1.0</td>\n",
       "      <td>1.0</td>\n",
       "      <td>1.0</td>\n",
       "      <td>0.0</td>\n",
       "      <td>1.0</td>\n",
       "    </tr>\n",
       "    <tr>\n",
       "      <th>opp106</th>\n",
       "      <td>2020-04-14 00:00:00</td>\n",
       "      <td>1.0</td>\n",
       "      <td>0</td>\n",
       "      <td>0</td>\n",
       "      <td>0</td>\n",
       "      <td>1</td>\n",
       "      <td>1</td>\n",
       "      <td>0</td>\n",
       "      <td>0</td>\n",
       "      <td>0</td>\n",
       "      <td>...</td>\n",
       "      <td>1.0</td>\n",
       "      <td>1.0</td>\n",
       "      <td>1.0</td>\n",
       "      <td>1.0</td>\n",
       "      <td>1.0</td>\n",
       "      <td>1.0</td>\n",
       "      <td>1.0</td>\n",
       "      <td>1.0</td>\n",
       "      <td>1.0</td>\n",
       "      <td>1.0</td>\n",
       "    </tr>\n",
       "  </tbody>\n",
       "</table>\n",
       "<p>5 rows × 32 columns</p>\n",
       "</div>"
      ],
      "text/plain": [
       "                     RENEWAL_DATE_C  IS_WON  Other_Plan  \\\n",
       "OPPORTUNITY_ID                                            \n",
       "opp101          2020-04-15 00:00:00     1.0           0   \n",
       "opp103          2020-04-18 00:00:00     1.0           0   \n",
       "opp104          2020-04-07 00:00:00     1.0           0   \n",
       "opp105          2020-04-02 00:00:00     1.0           0   \n",
       "opp106          2020-04-14 00:00:00     1.0           0   \n",
       "\n",
       "                PlanGrid (Admin Console)  PlanGrid (Advanced RFIs)  \\\n",
       "OPPORTUNITY_ID                                                       \n",
       "opp101                                 1                         0   \n",
       "opp103                                 0                         0   \n",
       "opp104                                 1                         0   \n",
       "opp105                                 0                         0   \n",
       "opp106                                 0                         0   \n",
       "\n",
       "                PlanGrid (Crane - Infinite Sheets)  \\\n",
       "OPPORTUNITY_ID                                       \n",
       "opp101                                           0   \n",
       "opp103                                           0   \n",
       "opp104                                           1   \n",
       "opp105                                           0   \n",
       "opp106                                           1   \n",
       "\n",
       "                PlanGrid (Dozer - 5000 Sheets)  \\\n",
       "OPPORTUNITY_ID                                   \n",
       "opp101                                       1   \n",
       "opp103                                       1   \n",
       "opp104                                       1   \n",
       "opp105                                       1   \n",
       "opp106                                       1   \n",
       "\n",
       "                PlanGrid (Nailgun - 550 Sheets)  \\\n",
       "OPPORTUNITY_ID                                    \n",
       "opp101                                        0   \n",
       "opp103                                        0   \n",
       "opp104                                        0   \n",
       "opp105                                        0   \n",
       "opp106                                        0   \n",
       "\n",
       "                PlanGrid (Submittals - Up to 50 Users)  PlanGrid (Workspaces)  \\\n",
       "OPPORTUNITY_ID                                                                  \n",
       "opp101                                               0                      0   \n",
       "opp103                                               0                      0   \n",
       "opp104                                               0                      0   \n",
       "opp105                                               0                      0   \n",
       "opp106                                               0                      0   \n",
       "\n",
       "                ...  field_report  home  issue  link  nav  photo  project  \\\n",
       "OPPORTUNITY_ID  ...                                                         \n",
       "opp101          ...           1.0   0.0    1.0   1.0  1.0    1.0      1.0   \n",
       "opp103          ...           1.0   1.0    1.0   0.0  1.0    1.0      0.0   \n",
       "opp104          ...           0.0   1.0    0.0   0.0  1.0    0.0      0.0   \n",
       "opp105          ...           1.0   1.0    1.0   0.0  1.0    1.0      1.0   \n",
       "opp106          ...           1.0   1.0    1.0   1.0  1.0    1.0      1.0   \n",
       "\n",
       "                projecthub  sheet  team  \n",
       "OPPORTUNITY_ID                           \n",
       "opp101                 0.0    1.0   1.0  \n",
       "opp103                 0.0    0.0   0.0  \n",
       "opp104                 1.0    0.0   1.0  \n",
       "opp105                 1.0    0.0   1.0  \n",
       "opp106                 1.0    1.0   1.0  \n",
       "\n",
       "[5 rows x 32 columns]"
      ]
     },
     "execution_count": 401,
     "metadata": {},
     "output_type": "execute_result"
    }
   ],
   "source": [
    "# Break or dataset to train and test based on \"RENEWAL_DATE_C\"\n",
    "df_train=df1[(df1['RENEWAL_DATE_C'] < '2020-04-21')]\n",
    "df_train.head()"
   ]
  },
  {
   "cell_type": "code",
   "execution_count": 402,
   "metadata": {},
   "outputs": [],
   "source": [
    "df_test=df1[(df1['RENEWAL_DATE_C'] > '2020-04-21')]"
   ]
  },
  {
   "cell_type": "markdown",
   "metadata": {},
   "source": [
    "Now we need split our traning set to traning and validation. "
   ]
  },
  {
   "cell_type": "code",
   "execution_count": 403,
   "metadata": {},
   "outputs": [],
   "source": [
    "Y = df_train['IS_WON']\n",
    "X = df_train.drop(['RENEWAL_DATE_C','IS_WON'], axis=1)\n",
    "X_train, X_val, Y_train, Y_val = train_test_split(X, Y, test_size=0.3, random_state=42)"
   ]
  },
  {
   "cell_type": "markdown",
   "metadata": {},
   "source": [
    "## Sampling"
   ]
  },
  {
   "cell_type": "markdown",
   "metadata": {},
   "source": [
    "Next we want to know if our target value for our traning set is balanced or not."
   ]
  },
  {
   "cell_type": "code",
   "execution_count": 404,
   "metadata": {},
   "outputs": [
    {
     "name": "stderr",
     "output_type": "stream",
     "text": [
      "C:\\Users\\19498\\anaconda3\\lib\\site-packages\\seaborn\\_decorators.py:36: FutureWarning: Pass the following variable as a keyword arg: x. From version 0.12, the only valid positional argument will be `data`, and passing other arguments without an explicit keyword will result in an error or misinterpretation.\n",
      "  warnings.warn(\n"
     ]
    },
    {
     "data": {
      "text/plain": [
       "<AxesSubplot:xlabel='IS_WON', ylabel='count'>"
      ]
     },
     "execution_count": 404,
     "metadata": {},
     "output_type": "execute_result"
    },
    {
     "data": {
      "image/png": "[encoded data removed]",
      "text/plain": [
       "<Figure size 432x288 with 1 Axes>"
      ]
     },
     "metadata": {
      "needs_background": "light"
     },
     "output_type": "display_data"
    }
   ],
   "source": [
    "sns.countplot(Y_train)"
   ]
  },
  {
   "cell_type": "markdown",
   "metadata": {},
   "source": [
    "It seems our dataset is unbalanced. We use SMOTE technique which means to create new synthetic False cases to balance our traning set. Figure below shows the effect of this technique. Note that we just do this for our traning not our validation, because we want them to represent the real test data.  "
   ]
  },
  {
   "cell_type": "code",
   "execution_count": 405,
   "metadata": {},
   "outputs": [
    {
     "name": "stderr",
     "output_type": "stream",
     "text": [
      "C:\\Users\\19498\\anaconda3\\lib\\site-packages\\seaborn\\_decorators.py:36: FutureWarning: Pass the following variable as a keyword arg: x. From version 0.12, the only valid positional argument will be `data`, and passing other arguments without an explicit keyword will result in an error or misinterpretation.\n",
      "  warnings.warn(\n"
     ]
    },
    {
     "data": {
      "text/plain": [
       "<AxesSubplot:xlabel='IS_WON', ylabel='count'>"
      ]
     },
     "execution_count": 405,
     "metadata": {},
     "output_type": "execute_result"
    },
    {
     "data": {
      "image/png": "[encoded data removed]",
      "text/plain": [
       "<Figure size 432x288 with 1 Axes>"
      ]
     },
     "metadata": {
      "needs_background": "light"
     },
     "output_type": "display_data"
    }
   ],
   "source": [
    "method = SMOTE()\n",
    "X_train, Y_train=method.fit_sample(X_train, Y_train)\n",
    "X_train=pd.DataFrame(X_train)\n",
    "X_train.columns=X.columns\n",
    "#X_train_s.head()\n",
    "sns.countplot(Y_train)"
   ]
  },
  {
   "cell_type": "markdown",
   "metadata": {},
   "source": [
    "## Model Selection"
   ]
  },
  {
   "cell_type": "markdown",
   "metadata": {},
   "source": [
    "### Catboost"
   ]
  },
  {
   "cell_type": "code",
   "execution_count": 407,
   "metadata": {},
   "outputs": [
    {
     "name": "stdout",
     "output_type": "stream",
     "text": [
      "AUC_Training:0.97\n",
      "AUC_Validation:0.78\n"
     ]
    }
   ],
   "source": [
    "from catboost import CatBoostClassifier\n",
    "cb=CatBoostClassifier()\n",
    "cb.fit(X_train,Y_train)\n",
    "cb_val = cb.predict(X_val)\n",
    "cb_pred_train = cb.predict_proba(X_train)[:,1]\n",
    "cb_pred_val = cb.predict_proba(X_val)[:,1]\n",
    "cb_train_auc = roc_auc_score(Y_train, cb_pred_train)\n",
    "cb_val_auc = roc_auc_score(Y_val, cb_pred_val)\n",
    "print('AUC_Training:%.2f'%cb_train_auc)\n",
    "print('AUC_Validation:%.2f'%cb_val_auc)"
   ]
  },
  {
   "cell_type": "markdown",
   "metadata": {},
   "source": [
    "### Logistic Regression"
   ]
  },
  {
   "cell_type": "code",
   "execution_count": 408,
   "metadata": {},
   "outputs": [
    {
     "name": "stdout",
     "output_type": "stream",
     "text": [
      "AUC_Training:0.91\n",
      "AUC_Validation:0.82\n"
     ]
    }
   ],
   "source": [
    "from sklearn.linear_model import LogisticRegression\n",
    "from sklearn.metrics import f1_score\n",
    "lr=LogisticRegression(random_state = 42)\n",
    "lr.fit(X_train,Y_train)\n",
    "lr_val = lr.predict(X_val)\n",
    "lr_pred_train = lr.predict_proba(X_train)[:,1]\n",
    "lr_pred_val = lr.predict_proba(X_val)[:,1]\n",
    "lr_train_auc = roc_auc_score(Y_train, lr_pred_train)\n",
    "lr_val_auc = roc_auc_score(Y_val, lr_pred_val)\n",
    "print('AUC_Training:%.2f'%lr_train_auc)\n",
    "print('AUC_Validation:%.2f'%lr_val_auc)\n"
   ]
  },
  {
   "cell_type": "markdown",
   "metadata": {},
   "source": [
    "### Random Forest Classifier"
   ]
  },
  {
   "cell_type": "code",
   "execution_count": 409,
   "metadata": {},
   "outputs": [
    {
     "name": "stdout",
     "output_type": "stream",
     "text": [
      "AUC_Training:0.95\n",
      "AUC_Validation:0.78\n"
     ]
    }
   ],
   "source": [
    "rf = RandomForestClassifier(max_depth = 6, random_state = 42) \n",
    "rf.fit(X_train,Y_train)\n",
    "rf_pred_train = rf.predict_proba(X_train)[:,1]\n",
    "rf_pred_val = rf.predict_proba(X_val)[:,1]\n",
    "rf_train_auc = roc_auc_score(Y_train, rf_pred_train)\n",
    "rf_val_auc = roc_auc_score(Y_val, rf_pred_val)\n",
    "print('AUC_Training:%.2f'%rf_train_auc)\n",
    "print('AUC_Validation:%.2f'%rf_val_auc)"
   ]
  },
  {
   "cell_type": "markdown",
   "metadata": {},
   "source": [
    "### Gradient Boosting"
   ]
  },
  {
   "cell_type": "code",
   "execution_count": 410,
   "metadata": {},
   "outputs": [
    {
     "name": "stdout",
     "output_type": "stream",
     "text": [
      "AUC_Training:0.97\n",
      "AUC_Validation:0.76\n"
     ]
    }
   ],
   "source": [
    "#Gradient Boosting\n",
    "gb = GradientBoostingClassifier() \n",
    "gb.fit(X_train,Y_train)\n",
    "gb_val = gb.predict(X_val)\n",
    "gb_pred_train = gb.predict_proba(X_train)[:,1]\n",
    "gb_pred_val = gb.predict_proba(X_val)[:,1]\n",
    "gb_train_auc = roc_auc_score(Y_train, gb_pred_train)\n",
    "gb_val_auc = roc_auc_score(Y_val, gb_pred_val)\n",
    "print('AUC_Training:%.2f'%gb_train_auc)\n",
    "print('AUC_Validation:%.2f'%gb_val_auc)"
   ]
  },
  {
   "cell_type": "markdown",
   "metadata": {},
   "source": [
    "### KNN"
   ]
  },
  {
   "cell_type": "code",
   "execution_count": 411,
   "metadata": {},
   "outputs": [
    {
     "name": "stdout",
     "output_type": "stream",
     "text": [
      "AUC_Training:0.93\n",
      "AUC_Validation:0.72\n"
     ]
    }
   ],
   "source": [
    "#KNN\n",
    "knn = KNeighborsClassifier() \n",
    "knn.fit(X_train,Y_train)\n",
    "knn_pred_train = knn.predict_proba(X_train)[:,1]\n",
    "knn_pred_val = knn.predict_proba(X_val)[:,1]\n",
    "knn_train_auc = roc_auc_score(Y_train, knn_pred_train)\n",
    "knn_val_auc = roc_auc_score(Y_val, knn_pred_val)\n",
    "print('AUC_Training:%.2f'%knn_train_auc)\n",
    "print('AUC_Validation:%.2f'%knn_val_auc)"
   ]
  },
  {
   "cell_type": "markdown",
   "metadata": {},
   "source": [
    "### Stochastic Gradient Descent"
   ]
  },
  {
   "cell_type": "code",
   "execution_count": 412,
   "metadata": {},
   "outputs": [
    {
     "name": "stdout",
     "output_type": "stream",
     "text": [
      "AUC_Training:0.84\n",
      "AUC_Validation:0.76\n"
     ]
    }
   ],
   "source": [
    "from sklearn.linear_model import SGDClassifier\n",
    "sgd=SGDClassifier(loss = 'log',alpha = 0.1,random_state = 42)\n",
    "sgd.fit(X_train,Y_train)\n",
    "sgd_val = sgd.predict(X_val)\n",
    "sgd_pred_train = sgd.predict_proba(X_train)[:,1]\n",
    "sgd_pred_val = sgd.predict_proba(X_val)[:,1]\n",
    "sgd_train_auc = roc_auc_score(Y_train, sgd_pred_train)\n",
    "sgd_val_auc = roc_auc_score(Y_val, sgd_pred_val)\n",
    "print('AUC_Training:%.2f'%sgd_train_auc)\n",
    "print('AUC_Validation:%.2f'%sgd_val_auc)"
   ]
  },
  {
   "cell_type": "markdown",
   "metadata": {},
   "source": [
    "### Ada Boost Classifier"
   ]
  },
  {
   "cell_type": "code",
   "execution_count": 413,
   "metadata": {},
   "outputs": [
    {
     "name": "stdout",
     "output_type": "stream",
     "text": [
      "AUC_Training:0.93\n",
      "AUC_Validation:0.79\n"
     ]
    }
   ],
   "source": [
    "from sklearn.ensemble import AdaBoostClassifier\n",
    "adb = AdaBoostClassifier(random_state = 42)\n",
    "adb.fit(X_train,Y_train)\n",
    "adb_val = adb.predict(X_val)\n",
    "adb_pred_train = adb.predict_proba(X_train)[:,1]\n",
    "adb_pred_val = adb.predict_proba(X_val)[:,1]\n",
    "adb_train_auc = roc_auc_score(Y_train, adb_pred_train)\n",
    "adb_val_auc = roc_auc_score(Y_val, adb_pred_val)\n",
    "print('AUC_Training:%.2f'%adb_train_auc)\n",
    "print('AUC_Validation:%.2f'%adb_val_auc)"
   ]
  },
  {
   "cell_type": "markdown",
   "metadata": {},
   "source": [
    "## Comparison"
   ]
  },
  {
   "cell_type": "markdown",
   "metadata": {},
   "source": [
    "We use AUC metric to compare different models. AUC is area under the ROC curve. Precision and recall are calculated using single threshold but AUC takes all possible thresholds for calculating FPR and TPR. So it is more powerfull."
   ]
  },
  {
   "cell_type": "markdown",
   "metadata": {},
   "source": [
    "Logistic Regression works better on our validation set, so we choose Logistic Regression as the best model that predict renewal."
   ]
  },
  {
   "cell_type": "code",
   "execution_count": 414,
   "metadata": {},
   "outputs": [
    {
     "name": "stdout",
     "output_type": "stream",
     "text": [
      "AUC_Training_Logistic_Regression:0.91\n",
      "AUC_Validation_Logistic_Regression:0.82\n"
     ]
    }
   ],
   "source": [
    "print('AUC_Training_Logistic_Regression:%.2f'%lr_train_auc)\n",
    "print('AUC_Validation_Logistic_Regression:%.2f'%lr_val_auc)\n"
   ]
  },
  {
   "cell_type": "code",
   "execution_count": 415,
   "metadata": {},
   "outputs": [
    {
     "name": "stdout",
     "output_type": "stream",
     "text": [
      "              precision    recall  f1-score   support\n",
      "\n",
      "         0.0       0.82      0.89      0.85       175\n",
      "         1.0       0.88      0.81      0.84       175\n",
      "\n",
      "    accuracy                           0.85       350\n",
      "   macro avg       0.85      0.85      0.85       350\n",
      "weighted avg       0.85      0.85      0.85       350\n",
      "\n"
     ]
    }
   ],
   "source": [
    "#Logistic Regression for traning set\n",
    "print(classification_report(Y_train, np.argmax(lr.predict_proba(X_train), axis=1)))\n"
   ]
  },
  {
   "cell_type": "code",
   "execution_count": 416,
   "metadata": {},
   "outputs": [
    {
     "name": "stdout",
     "output_type": "stream",
     "text": [
      "              precision    recall  f1-score   support\n",
      "\n",
      "         0.0       0.59      0.61      0.60        28\n",
      "         1.0       0.83      0.82      0.82        65\n",
      "\n",
      "    accuracy                           0.75        93\n",
      "   macro avg       0.71      0.71      0.71        93\n",
      "weighted avg       0.76      0.75      0.75        93\n",
      "\n"
     ]
    }
   ],
   "source": [
    "#Logistic Regression for Validation set\n",
    "print(classification_report(Y_val, np.argmax(lr.predict_proba(X_val), axis=1)))"
   ]
  },
  {
   "cell_type": "markdown",
   "metadata": {},
   "source": [
    "## Most Important Feature Based on Random Forest"
   ]
  },
  {
   "cell_type": "code",
   "execution_count": 417,
   "metadata": {},
   "outputs": [
    {
     "name": "stdout",
     "output_type": "stream",
     "text": [
      "Top 10 features are: \n",
      "PlanGrid (Nailgun - 550 Sheets)\n",
      "link\n",
      "projecthub\n",
      "PlanGrid (Admin Console)\n",
      "PlanGrid (Crane - Infinite Sheets)\n",
      "PlanGrid (Dozer - 5000 Sheets)\n",
      "PlanGrid (Workspaces)\n",
      "team\n",
      "photo\n",
      "field_report\n"
     ]
    },
    {
     "data": {
      "image/png": "[encoded data removed]",
      "text/plain": [
       "<Figure size 720x864 with 1 Axes>"
      ]
     },
     "metadata": {
      "needs_background": "light"
     },
     "output_type": "display_data"
    }
   ],
   "source": [
    "# Random Forest\n",
    "from sklearn.ensemble import RandomForestClassifier\n",
    "random_forest = RandomForestClassifier()\n",
    "random_forest.fit(X_train, Y_train)\n",
    "importances = random_forest.feature_importances_\n",
    "\n",
    "feature_importance = 100.0 * (importances / importances.max()) # relative importance\n",
    "sorted_idx = np.argsort(feature_importance)\n",
    "feature_names = list(X_train.columns.values)\n",
    "feature_names_sort = [feature_names[indice] for indice in sorted_idx]\n",
    "pos = np.arange(sorted_idx.shape[0]) + .5\n",
    "print ('Top 10 features are: ')\n",
    "for feature in feature_names_sort[::-1][:10]:\n",
    "    print (feature)\n",
    "\n",
    "# plot top features\n",
    "plt.figure(figsize=(10, 12))\n",
    "plt.barh(pos[:], feature_importance[sorted_idx[:]], align='center')\n",
    "plt.yticks(pos[:], feature_names_sort[:])\n",
    "plt.title('Relative Feature Importance', fontsize=20)\n",
    "plt.show()"
   ]
  }
 ],
 "metadata": {
  "kernelspec": {
   "display_name": "Python 3",
   "language": "python",
   "name": "python3"
  },
  "language_info": {
   "codemirror_mode": {
    "name": "ipython",
    "version": 3
   },
   "file_extension": ".py",
   "mimetype": "text/x-python",
   "name": "python",
   "nbconvert_exporter": "python",
   "pygments_lexer": "ipython3",
   "version": "3.8.3"
  },
  "toc-autonumbering": true,
  "toc-showcode": false,
  "toc-showmarkdowntxt": false,
  "toc-showtags": false
 },
 "nbformat": 4,
 "nbformat_minor": 4
}
