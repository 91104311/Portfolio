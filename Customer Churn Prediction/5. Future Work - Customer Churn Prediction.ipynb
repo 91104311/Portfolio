{
 "cells": [
  {
   "cell_type": "markdown",
   "metadata": {},
   "source": [
    "# Future Work"
   ]
  },
  {
   "cell_type": "markdown",
   "metadata": {},
   "source": [
    "If we have more time, we could improve our model. \n",
    "\n",
    "First, we could add \"EVENT_COUNT\" and \"QUANTITY\" to our feature set to see if these two improve our model. \n",
    "\n",
    "Second, we could add other sampling methods like OverSampling or Undersampling to see if this change improve our model or not.\n",
    "\n",
    "Third, we could add crossvalidation. Now we see that AUC for validation set is much lower than traning set, and it means our models suffer from overfitting. By adding cross-validaion we can prevent from overfitting.\n",
    "\n",
    "Fourth, we could add L1 Regularization. It helps us to for feature selection as well as preventing overfitting. \n",
    "\n",
    "At last, we could do Hypertuning for each model to imrpove prediction for each model."
   ]
  }
 ],
 "metadata": {
  "kernelspec": {
   "display_name": "Python 3",
   "language": "python",
   "name": "python3"
  },
  "language_info": {
   "codemirror_mode": {
    "name": "ipython",
    "version": 3
   },
   "file_extension": ".py",
   "mimetype": "text/x-python",
   "name": "python",
   "nbconvert_exporter": "python",
   "pygments_lexer": "ipython3",
   "version": "3.8.3"
  },
  "toc-autonumbering": true,
  "toc-showcode": false,
  "toc-showmarkdowntxt": false,
  "toc-showtags": false
 },
 "nbformat": 4,
 "nbformat_minor": 4
}
