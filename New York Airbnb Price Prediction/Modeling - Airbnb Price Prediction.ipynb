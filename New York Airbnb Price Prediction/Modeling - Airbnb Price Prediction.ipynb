{
 "cells": [
  {
   "cell_type": "markdown",
   "id": "1c0dc8b2",
   "metadata": {},
   "source": [
    "# Modeling"
   ]
  },
  {
   "cell_type": "code",
   "execution_count": 59,
   "id": "7fcec833",
   "metadata": {},
   "outputs": [],
   "source": [
    "#Train and Test Set\n",
    "X_train, X_test, y_train, y_test = train_test_split(df_ready, training_labels,test_size=0.2)"
   ]
  },
  {
   "cell_type": "markdown",
   "id": "92a4103e",
   "metadata": {},
   "source": [
    "First define loss based on 5 Croos Validation"
   ]
  },
  {
   "cell_type": "code",
   "execution_count": 60,
   "id": "baa11dd5",
   "metadata": {},
   "outputs": [],
   "source": [
    "n_folds = 5\n",
    "\n",
    "# squared_loss\n",
    "def rmse_cv(model):\n",
    "    kf = KFold(n_folds, shuffle=True).get_n_splits(numerical_features)\n",
    "    return cross_val_score(model, X_train, y_train, scoring='neg_mean_squared_error', cv=kf)\n",
    "\n",
    "def rmse_lv_cv(model):\n",
    "    kf = KFold(n_folds, shuffle=True).get_n_splits(numerical_features)\n",
    "    return cross_val_score(model, Xlv_train, y_train, scoring='neg_mean_squared_error', cv=kf)"
   ]
  },
  {
   "cell_type": "markdown",
   "id": "8d36f75c",
   "metadata": {},
   "source": [
    "## Model Exploration"
   ]
  },
  {
   "cell_type": "code",
   "execution_count": 61,
   "id": "37d5cffc",
   "metadata": {},
   "outputs": [
    {
     "name": "stdout",
     "output_type": "stream",
     "text": [
      "LinearRegression: 35333.16517 +/- 8182.276043\n",
      "Ridge: 35328.73834 +/- 8184.273997\n",
      "Lasso: 36048.76825 +/- 8250.358356\n",
      "ElasticNet: 37859.71859 +/- 8447.857286\n",
      "RandomForestRegressor: 34722.18731 +/- 6454.725846\n",
      "XGBRegressor: 36321.14997 +/- 6127.005616\n",
      "HuberRegressor: 37022.75564 +/- 8435.616434\n"
     ]
    }
   ],
   "source": [
    "for Model in [LinearRegression, Ridge, Lasso, ElasticNet, RandomForestRegressor, XGBRegressor, HuberRegressor]:\n",
    "    if Model == XGBRegressor: cv_res = rmse_cv(XGBRegressor(objective='reg:squarederror'))\n",
    "    else: cv_res = rmse_cv(Model())\n",
    "    print('{}: {:.5f} +/- {:5f}'.format(Model.__name__, -cv_res.mean(), cv_res.std()))"
   ]
  },
  {
   "cell_type": "code",
   "execution_count": 62,
   "id": "7c8e277a",
   "metadata": {},
   "outputs": [],
   "source": [
    "def evaluation(y_test, y_predict):  \n",
    "    mae = metrics.mean_absolute_error(y_test, y_predict)\n",
    "    mse = metrics.mean_squared_error(y_test, y_predict)\n",
    "    rmse = np.sqrt(metrics.mean_squared_error(y_test, y_predict))\n",
    "    r2_square = metrics.r2_score(y_test, y_predict)\n",
    "    print('MAE:', mae)\n",
    "    print('MSE:', mse)\n",
    "    print('RMSE:', rmse)\n",
    "    print('R2 Square', r2_square)"
   ]
  },
  {
   "cell_type": "code",
   "execution_count": 100,
   "id": "ae770653",
   "metadata": {},
   "outputs": [],
   "source": [
    "def evaluation(y_test, y_predict,mode,model):  \n",
    "    mae = metrics.mean_absolute_error(y_test, y_predict)\n",
    "    mse = metrics.mean_squared_error(y_test, y_predict)\n",
    "    rmse = np.sqrt(metrics.mean_squared_error(y_test, y_predict))\n",
    "    r2_square = metrics.r2_score(y_test, y_predict)\n",
    "    #print('MAE:', mae)\n",
    "    #print('MSE:', mse)\n",
    "    #print('RMSE:', rmse)\n",
    "    #print('R2 Square', r2_square)\n",
    "    result=pd.DataFrame({'Algorithm':[model],\n",
    "            mode+'_MAE': [mae],\n",
    "            mode+'_MSE': [mse],\n",
    "            mode+'_RMSE': [rmse],\n",
    "            mode+'_R2 Square': [r2_square],\n",
    "             })\n",
    "    return result"
   ]
  },
  {
   "cell_type": "markdown",
   "id": "c3182895-0fa9-4d75-825a-0320ff927a61",
   "metadata": {},
   "source": [
    "## Hyperparameter tuning"
   ]
  },
  {
   "cell_type": "markdown",
   "id": "609a950c-c6f9-4833-91f5-52e764f0b549",
   "metadata": {},
   "source": [
    "### Linear Regression"
   ]
  },
  {
   "cell_type": "code",
   "execution_count": 107,
   "id": "3e2e6288",
   "metadata": {},
   "outputs": [
    {
     "name": "stdout",
     "output_type": "stream",
     "text": [
      "{'copy_X': True, 'fit_intercept': False}\n"
     ]
    },
    {
     "data": {
      "text/html": [
       "<div>\n",
       "<style scoped>\n",
       "    .dataframe tbody tr th:only-of-type {\n",
       "        vertical-align: middle;\n",
       "    }\n",
       "\n",
       "    .dataframe tbody tr th {\n",
       "        vertical-align: top;\n",
       "    }\n",
       "\n",
       "    .dataframe thead th {\n",
       "        text-align: right;\n",
       "    }\n",
       "</style>\n",
       "<table border=\"1\" class=\"dataframe\">\n",
       "  <thead>\n",
       "    <tr style=\"text-align: right;\">\n",
       "      <th></th>\n",
       "      <th>Algorithm</th>\n",
       "      <th>Training_MAE</th>\n",
       "      <th>Training_MSE</th>\n",
       "      <th>Training_RMSE</th>\n",
       "      <th>Training_R2 Square</th>\n",
       "    </tr>\n",
       "  </thead>\n",
       "  <tbody>\n",
       "    <tr>\n",
       "      <th>0</th>\n",
       "      <td>Linear Regression</td>\n",
       "      <td>68.937626</td>\n",
       "      <td>35081.858903</td>\n",
       "      <td>187.301519</td>\n",
       "      <td>0.165472</td>\n",
       "    </tr>\n",
       "  </tbody>\n",
       "</table>\n",
       "</div>"
      ],
      "text/plain": [
       "           Algorithm  Training_MAE  Training_MSE  Training_RMSE  \\\n",
       "0  Linear Regression     68.937626  35081.858903     187.301519   \n",
       "\n",
       "   Training_R2 Square  \n",
       "0            0.165472  "
      ]
     },
     "execution_count": 107,
     "metadata": {},
     "output_type": "execute_result"
    }
   ],
   "source": [
    "### Linear Regression ###\n",
    "\n",
    "def linear_reg(input_x, input_y, cv=5):\n",
    "    ## Defining parameters\n",
    "    global grid_search_LR\n",
    "    model_LR= LinearRegression()\n",
    "\n",
    "    parameters = {'fit_intercept':[True,False], 'copy_X':[True, False]}\n",
    "\n",
    "    ## Building Grid Search algorithm with cross-validation and Mean Squared Error score.\n",
    "\n",
    "    grid_search_LR = GridSearchCV(estimator=model_LR,  \n",
    "                         param_grid=parameters,\n",
    "                         scoring='neg_mean_squared_error',\n",
    "                         cv=cv,\n",
    "                         n_jobs=-1)\n",
    "\n",
    "    ## Lastly, finding the best parameters.\n",
    "\n",
    "    grid_search_LR.fit(input_x, input_y)\n",
    "    return grid_search_LR\n",
    "\n",
    "\n",
    "\n",
    "# Train\n",
    "linear_reg(X_train, y_train)\n",
    "best_parameters_LR = grid_search_LR.best_params_  \n",
    "best_score_LR = grid_search_LR.best_score_ \n",
    "print(best_parameters_LR)\n",
    "final_model_LR = grid_search_LR.best_estimator_\n",
    "y_predict_LR = final_model_LR.predict(X_train)\n",
    "evaluation(y_train, y_predict_LR,mode='Training',model='Linear Regression')"
   ]
  },
  {
   "cell_type": "code",
   "execution_count": 108,
   "id": "e9c1483a",
   "metadata": {},
   "outputs": [
    {
     "data": {
      "text/html": [
       "<div>\n",
       "<style scoped>\n",
       "    .dataframe tbody tr th:only-of-type {\n",
       "        vertical-align: middle;\n",
       "    }\n",
       "\n",
       "    .dataframe tbody tr th {\n",
       "        vertical-align: top;\n",
       "    }\n",
       "\n",
       "    .dataframe thead th {\n",
       "        text-align: right;\n",
       "    }\n",
       "</style>\n",
       "<table border=\"1\" class=\"dataframe\">\n",
       "  <thead>\n",
       "    <tr style=\"text-align: right;\">\n",
       "      <th></th>\n",
       "      <th>Algorithm</th>\n",
       "      <th>Test_MAE</th>\n",
       "      <th>Test_MSE</th>\n",
       "      <th>Test_RMSE</th>\n",
       "      <th>Test_R2 Square</th>\n",
       "    </tr>\n",
       "  </thead>\n",
       "  <tbody>\n",
       "    <tr>\n",
       "      <th>0</th>\n",
       "      <td>Linear Regression</td>\n",
       "      <td>70.855571</td>\n",
       "      <td>40891.929071</td>\n",
       "      <td>202.217529</td>\n",
       "      <td>0.137353</td>\n",
       "    </tr>\n",
       "  </tbody>\n",
       "</table>\n",
       "</div>"
      ],
      "text/plain": [
       "           Algorithm   Test_MAE      Test_MSE   Test_RMSE  Test_R2 Square\n",
       "0  Linear Regression  70.855571  40891.929071  202.217529        0.137353"
      ]
     },
     "execution_count": 108,
     "metadata": {},
     "output_type": "execute_result"
    }
   ],
   "source": [
    "#Test Data\n",
    "y_predict_test_LR = final_model_LR.predict(X_test)\n",
    "evaluation(y_test, y_predict_test_LR,mode='Test',model='Linear Regression')"
   ]
  },
  {
   "cell_type": "markdown",
   "id": "760b3a35-6d49-42b4-911e-a932613aa939",
   "metadata": {},
   "source": [
    "### Ridge Regression"
   ]
  },
  {
   "cell_type": "code",
   "execution_count": 120,
   "id": "475175d5",
   "metadata": {},
   "outputs": [
    {
     "name": "stdout",
     "output_type": "stream",
     "text": [
      "{'alpha': 24}\n"
     ]
    },
    {
     "data": {
      "text/html": [
       "<div>\n",
       "<style scoped>\n",
       "    .dataframe tbody tr th:only-of-type {\n",
       "        vertical-align: middle;\n",
       "    }\n",
       "\n",
       "    .dataframe tbody tr th {\n",
       "        vertical-align: top;\n",
       "    }\n",
       "\n",
       "    .dataframe thead th {\n",
       "        text-align: right;\n",
       "    }\n",
       "</style>\n",
       "<table border=\"1\" class=\"dataframe\">\n",
       "  <thead>\n",
       "    <tr style=\"text-align: right;\">\n",
       "      <th></th>\n",
       "      <th>Algorithm</th>\n",
       "      <th>Training_MAE</th>\n",
       "      <th>Training_MSE</th>\n",
       "      <th>Training_RMSE</th>\n",
       "      <th>Training_R2 Square</th>\n",
       "    </tr>\n",
       "  </thead>\n",
       "  <tbody>\n",
       "    <tr>\n",
       "      <th>0</th>\n",
       "      <td>Ridge Regression</td>\n",
       "      <td>68.778807</td>\n",
       "      <td>35098.271236</td>\n",
       "      <td>187.345326</td>\n",
       "      <td>0.165082</td>\n",
       "    </tr>\n",
       "  </tbody>\n",
       "</table>\n",
       "</div>"
      ],
      "text/plain": [
       "          Algorithm  Training_MAE  Training_MSE  Training_RMSE  \\\n",
       "0  Ridge Regression     68.778807  35098.271236     187.345326   \n",
       "\n",
       "   Training_R2 Square  \n",
       "0            0.165082  "
      ]
     },
     "execution_count": 120,
     "metadata": {},
     "output_type": "execute_result"
    }
   ],
   "source": [
    "### Ridge Regression ###\n",
    "\n",
    "def ridge_reg(input_x, input_y, cv=5):\n",
    "    ## Defining parameters\n",
    "    global grid_search_Ridge\n",
    "    model_Ridge= Ridge()\n",
    "\n",
    "    # prepare a range of alpha values to test\n",
    "    alphas =np.arange(20,31)#np.array([30,25,20])\n",
    "\n",
    "    ## Building Grid Search algorithm with cross-validation and Mean Squared Error score.\n",
    "\n",
    "    grid_search_Ridge = GridSearchCV(estimator=model_Ridge,  \n",
    "                         param_grid=(dict(alpha=alphas)),\n",
    "                         scoring='neg_mean_squared_error',\n",
    "                         cv=cv,\n",
    "                         n_jobs=-1)\n",
    "\n",
    "    ## Lastly, finding the best parameters.\n",
    "\n",
    "    grid_search_Ridge.fit(input_x, input_y)\n",
    "    return grid_search_Ridge\n",
    "\n",
    "\n",
    "\n",
    "# Train\n",
    "ridge_reg(X_train, y_train)\n",
    "best_parameters_Ridge = grid_search_Ridge.best_params_  \n",
    "best_score_Ridge = grid_search_Ridge.best_score_ \n",
    "print(best_parameters_Ridge)\n",
    "final_model_Ridge = grid_search_Ridge.best_estimator_\n",
    "y_predict_Ridge = final_model_Ridge.predict(X_train)\n",
    "evaluation(y_train, y_predict_Ridge,mode='Training',model='Ridge Regression')"
   ]
  },
  {
   "cell_type": "code",
   "execution_count": 118,
   "id": "3ab3cf68",
   "metadata": {},
   "outputs": [
    {
     "data": {
      "text/html": [
       "<div>\n",
       "<style scoped>\n",
       "    .dataframe tbody tr th:only-of-type {\n",
       "        vertical-align: middle;\n",
       "    }\n",
       "\n",
       "    .dataframe tbody tr th {\n",
       "        vertical-align: top;\n",
       "    }\n",
       "\n",
       "    .dataframe thead th {\n",
       "        text-align: right;\n",
       "    }\n",
       "</style>\n",
       "<table border=\"1\" class=\"dataframe\">\n",
       "  <thead>\n",
       "    <tr style=\"text-align: right;\">\n",
       "      <th></th>\n",
       "      <th>Algorithm</th>\n",
       "      <th>Test_MAE</th>\n",
       "      <th>Test_MSE</th>\n",
       "      <th>Test_RMSE</th>\n",
       "      <th>Test_R2 Square</th>\n",
       "    </tr>\n",
       "  </thead>\n",
       "  <tbody>\n",
       "    <tr>\n",
       "      <th>0</th>\n",
       "      <td>Ridge Regression</td>\n",
       "      <td>70.648309</td>\n",
       "      <td>40888.00506</td>\n",
       "      <td>202.207826</td>\n",
       "      <td>0.137436</td>\n",
       "    </tr>\n",
       "  </tbody>\n",
       "</table>\n",
       "</div>"
      ],
      "text/plain": [
       "          Algorithm   Test_MAE     Test_MSE   Test_RMSE  Test_R2 Square\n",
       "0  Ridge Regression  70.648309  40888.00506  202.207826        0.137436"
      ]
     },
     "execution_count": 118,
     "metadata": {},
     "output_type": "execute_result"
    }
   ],
   "source": [
    "#Test Data\n",
    "y_predict_test_Ridge = final_model_Ridge.predict(X_test)\n",
    "evaluation(y_test, y_predict_test_Ridge,mode='Test',model='Ridge Regression')"
   ]
  },
  {
   "cell_type": "markdown",
   "id": "0eaddc16-58e8-4570-85b9-8b4d483fb6c5",
   "metadata": {},
   "source": [
    "### Random Forest"
   ]
  },
  {
   "cell_type": "code",
   "execution_count": 121,
   "id": "6f94d205",
   "metadata": {},
   "outputs": [
    {
     "name": "stderr",
     "output_type": "stream",
     "text": [
      "/opt/anaconda3/lib/python3.8/site-packages/sklearn/linear_model/_ridge.py:212: LinAlgWarning: Ill-conditioned matrix (rcond=1.87711e-18): result may not be accurate.\n",
      "  return linalg.solve(A, Xy, sym_pos=True, overwrite_a=True).T\n",
      "/opt/anaconda3/lib/python3.8/site-packages/sklearn/linear_model/_ridge.py:212: LinAlgWarning: Ill-conditioned matrix (rcond=1.87711e-18): result may not be accurate.\n",
      "  return linalg.solve(A, Xy, sym_pos=True, overwrite_a=True).T\n",
      "/opt/anaconda3/lib/python3.8/site-packages/sklearn/linear_model/_ridge.py:212: LinAlgWarning: Ill-conditioned matrix (rcond=1.87711e-18): result may not be accurate.\n",
      "  return linalg.solve(A, Xy, sym_pos=True, overwrite_a=True).T\n",
      "/opt/anaconda3/lib/python3.8/site-packages/sklearn/linear_model/_ridge.py:212: LinAlgWarning: Ill-conditioned matrix (rcond=1.87711e-18): result may not be accurate.\n",
      "  return linalg.solve(A, Xy, sym_pos=True, overwrite_a=True).T\n",
      "/opt/anaconda3/lib/python3.8/site-packages/sklearn/linear_model/_ridge.py:212: LinAlgWarning: Ill-conditioned matrix (rcond=1.87711e-18): result may not be accurate.\n",
      "  return linalg.solve(A, Xy, sym_pos=True, overwrite_a=True).T\n",
      "/opt/anaconda3/lib/python3.8/site-packages/sklearn/linear_model/_ridge.py:212: LinAlgWarning: Ill-conditioned matrix (rcond=1.87711e-18): result may not be accurate.\n",
      "  return linalg.solve(A, Xy, sym_pos=True, overwrite_a=True).T\n"
     ]
    },
    {
     "name": "stdout",
     "output_type": "stream",
     "text": [
      "{'max_features': 8, 'n_estimators': 30}\n"
     ]
    },
    {
     "data": {
      "text/html": [
       "<div>\n",
       "<style scoped>\n",
       "    .dataframe tbody tr th:only-of-type {\n",
       "        vertical-align: middle;\n",
       "    }\n",
       "\n",
       "    .dataframe tbody tr th {\n",
       "        vertical-align: top;\n",
       "    }\n",
       "\n",
       "    .dataframe thead th {\n",
       "        text-align: right;\n",
       "    }\n",
       "</style>\n",
       "<table border=\"1\" class=\"dataframe\">\n",
       "  <thead>\n",
       "    <tr style=\"text-align: right;\">\n",
       "      <th></th>\n",
       "      <th>Algorithm</th>\n",
       "      <th>Training_MAE</th>\n",
       "      <th>Training_MSE</th>\n",
       "      <th>Training_RMSE</th>\n",
       "      <th>Training_R2 Square</th>\n",
       "    </tr>\n",
       "  </thead>\n",
       "  <tbody>\n",
       "    <tr>\n",
       "      <th>0</th>\n",
       "      <td>Random Forest</td>\n",
       "      <td>27.540097</td>\n",
       "      <td>7273.924047</td>\n",
       "      <td>85.287303</td>\n",
       "      <td>0.826968</td>\n",
       "    </tr>\n",
       "  </tbody>\n",
       "</table>\n",
       "</div>"
      ],
      "text/plain": [
       "       Algorithm  Training_MAE  Training_MSE  Training_RMSE  \\\n",
       "0  Random Forest     27.540097   7273.924047      85.287303   \n",
       "\n",
       "   Training_R2 Square  \n",
       "0            0.826968  "
      ]
     },
     "execution_count": 121,
     "metadata": {},
     "output_type": "execute_result"
    }
   ],
   "source": [
    "### Random Forest ###\n",
    "\n",
    "def rf_reg(input_x, input_y, cv=5):\n",
    "    ## Defining parameters\n",
    "    global grid_search_rf\n",
    "    model_rf= RandomForestRegressor()\n",
    "\n",
    "    param_grid = [\n",
    "    # try 12 (3×4) combinations of hyperparameters\n",
    "    {'n_estimators': [3, 10, 30], 'max_features': [2, 4, 6, 8]},\n",
    "    # then try 6 (2×3) combinations with bootstrap set as False\n",
    "    {'bootstrap': [False], 'n_estimators': [3, 10], 'max_features': [2, 3, 4]},]\n",
    "    \n",
    "\n",
    "    ## Building Grid Search algorithm with cross-validation and Mean Squared Error score.\n",
    "\n",
    "    grid_search_rf = GridSearchCV(model_rf, param_grid, cv=5,\n",
    "                           scoring='neg_mean_squared_error',\n",
    "                           return_train_score=True)\n",
    "\n",
    "    ## Lastly, finding the best parameters.\n",
    "\n",
    "    grid_search_rf.fit(input_x, input_y)\n",
    "    return grid_search_rf\n",
    "\n",
    "\n",
    "\n",
    "# Train\n",
    "rf_reg(X_train, y_train)\n",
    "best_parameters_rf = grid_search_rf.best_params_  \n",
    "best_score_rf = grid_search_rf.best_score_ \n",
    "print(best_parameters_rf)\n",
    "final_model_rf = grid_search_rf.best_estimator_\n",
    "y_predict_rf = final_model_rf.predict(X_train)\n",
    "evaluation(y_train, y_predict_rf,mode='Training',model='Random Forest')"
   ]
  },
  {
   "cell_type": "code",
   "execution_count": 122,
   "id": "6b769ba1",
   "metadata": {},
   "outputs": [
    {
     "data": {
      "text/html": [
       "<div>\n",
       "<style scoped>\n",
       "    .dataframe tbody tr th:only-of-type {\n",
       "        vertical-align: middle;\n",
       "    }\n",
       "\n",
       "    .dataframe tbody tr th {\n",
       "        vertical-align: top;\n",
       "    }\n",
       "\n",
       "    .dataframe thead th {\n",
       "        text-align: right;\n",
       "    }\n",
       "</style>\n",
       "<table border=\"1\" class=\"dataframe\">\n",
       "  <thead>\n",
       "    <tr style=\"text-align: right;\">\n",
       "      <th></th>\n",
       "      <th>Algorithm</th>\n",
       "      <th>Test_MAE</th>\n",
       "      <th>Test_MSE</th>\n",
       "      <th>Test_RMSE</th>\n",
       "      <th>Test_R2 Square</th>\n",
       "    </tr>\n",
       "  </thead>\n",
       "  <tbody>\n",
       "    <tr>\n",
       "      <th>0</th>\n",
       "      <td>Random Forest</td>\n",
       "      <td>65.233881</td>\n",
       "      <td>41902.365721</td>\n",
       "      <td>204.700673</td>\n",
       "      <td>0.116037</td>\n",
       "    </tr>\n",
       "  </tbody>\n",
       "</table>\n",
       "</div>"
      ],
      "text/plain": [
       "       Algorithm   Test_MAE      Test_MSE   Test_RMSE  Test_R2 Square\n",
       "0  Random Forest  65.233881  41902.365721  204.700673        0.116037"
      ]
     },
     "execution_count": 122,
     "metadata": {},
     "output_type": "execute_result"
    }
   ],
   "source": [
    "#Test Data\n",
    "y_predict_test_rf = final_model_rf.predict(X_test)\n",
    "evaluation(y_test, y_predict_test_rf,mode='Test',model='Random Forest')"
   ]
  },
  {
   "cell_type": "code",
   "execution_count": 125,
   "id": "f00f260f",
   "metadata": {},
   "outputs": [
    {
     "name": "stdout",
     "output_type": "stream",
     "text": [
      "{'max_features': 7, 'n_estimators': 122}\n"
     ]
    },
    {
     "data": {
      "text/html": [
       "<div>\n",
       "<style scoped>\n",
       "    .dataframe tbody tr th:only-of-type {\n",
       "        vertical-align: middle;\n",
       "    }\n",
       "\n",
       "    .dataframe tbody tr th {\n",
       "        vertical-align: top;\n",
       "    }\n",
       "\n",
       "    .dataframe thead th {\n",
       "        text-align: right;\n",
       "    }\n",
       "</style>\n",
       "<table border=\"1\" class=\"dataframe\">\n",
       "  <thead>\n",
       "    <tr style=\"text-align: right;\">\n",
       "      <th></th>\n",
       "      <th>Algorithm</th>\n",
       "      <th>Training_MAE</th>\n",
       "      <th>Training_MSE</th>\n",
       "      <th>Training_RMSE</th>\n",
       "      <th>Training_R2 Square</th>\n",
       "    </tr>\n",
       "  </thead>\n",
       "  <tbody>\n",
       "    <tr>\n",
       "      <th>0</th>\n",
       "      <td>Random Forest</td>\n",
       "      <td>26.755158</td>\n",
       "      <td>6888.124341</td>\n",
       "      <td>82.994725</td>\n",
       "      <td>0.836145</td>\n",
       "    </tr>\n",
       "  </tbody>\n",
       "</table>\n",
       "</div>"
      ],
      "text/plain": [
       "       Algorithm  Training_MAE  Training_MSE  Training_RMSE  \\\n",
       "0  Random Forest     26.755158   6888.124341      82.994725   \n",
       "\n",
       "   Training_R2 Square  \n",
       "0            0.836145  "
      ]
     },
     "execution_count": 125,
     "metadata": {},
     "output_type": "execute_result"
    }
   ],
   "source": [
    "### Random Forest ###\n",
    "\n",
    "def rf_reg(input_x, input_y, cv=5):\n",
    "    ## Defining parameters\n",
    "    global rnd_search_rf\n",
    "    model_rf= RandomForestRegressor()\n",
    "\n",
    "    \n",
    "    param_distribs = {\n",
    "        'n_estimators': randint(low=1, high=200),\n",
    "        'max_features': randint(low=1, high=8),\n",
    "    }\n",
    "    \n",
    "    \n",
    "\n",
    "    ## Building Grid Search algorithm with cross-validation and Mean Squared Error score.\n",
    "\n",
    "    rnd_search_rf = RandomizedSearchCV(model_rf, param_distributions=param_distribs,\n",
    "                                n_iter=10, cv=5, scoring='neg_mean_squared_error')\n",
    "\n",
    "    ## Lastly, finding the best parameters.\n",
    "\n",
    "    rnd_search_rf.fit(input_x, input_y)\n",
    "    return rnd_search_rf\n",
    "\n",
    "\n",
    "\n",
    "# Train\n",
    "rf_reg(X_train, y_train)\n",
    "best_parameters_rf = rnd_search_rf.best_params_  \n",
    "best_score_rf = rnd_search_rf.best_score_ \n",
    "print(best_parameters_rf)\n",
    "final_model_rf = rnd_search_rf.best_estimator_\n",
    "y_predict_rf = final_model_rf.predict(X_train)\n",
    "evaluation(y_train, y_predict_rf,mode='Training',model='Random Forest')"
   ]
  },
  {
   "cell_type": "code",
   "execution_count": 126,
   "id": "d393724b",
   "metadata": {},
   "outputs": [
    {
     "data": {
      "text/html": [
       "<div>\n",
       "<style scoped>\n",
       "    .dataframe tbody tr th:only-of-type {\n",
       "        vertical-align: middle;\n",
       "    }\n",
       "\n",
       "    .dataframe tbody tr th {\n",
       "        vertical-align: top;\n",
       "    }\n",
       "\n",
       "    .dataframe thead th {\n",
       "        text-align: right;\n",
       "    }\n",
       "</style>\n",
       "<table border=\"1\" class=\"dataframe\">\n",
       "  <thead>\n",
       "    <tr style=\"text-align: right;\">\n",
       "      <th></th>\n",
       "      <th>Algorithm</th>\n",
       "      <th>Test_MAE</th>\n",
       "      <th>Test_MSE</th>\n",
       "      <th>Test_RMSE</th>\n",
       "      <th>Test_R2 Square</th>\n",
       "    </tr>\n",
       "  </thead>\n",
       "  <tbody>\n",
       "    <tr>\n",
       "      <th>0</th>\n",
       "      <td>Random Forest</td>\n",
       "      <td>64.528012</td>\n",
       "      <td>41198.686611</td>\n",
       "      <td>202.974596</td>\n",
       "      <td>0.130882</td>\n",
       "    </tr>\n",
       "  </tbody>\n",
       "</table>\n",
       "</div>"
      ],
      "text/plain": [
       "       Algorithm   Test_MAE      Test_MSE   Test_RMSE  Test_R2 Square\n",
       "0  Random Forest  64.528012  41198.686611  202.974596        0.130882"
      ]
     },
     "execution_count": 126,
     "metadata": {},
     "output_type": "execute_result"
    }
   ],
   "source": [
    "#Test Data\n",
    "y_predict_test_rf = final_model_rf.predict(X_test)\n",
    "evaluation(y_test, y_predict_test_rf,mode='Test',model='Random Forest')"
   ]
  },
  {
   "cell_type": "code",
   "execution_count": 127,
   "id": "eccd8c96",
   "metadata": {},
   "outputs": [
    {
     "name": "stdout",
     "output_type": "stream",
     "text": [
      "Fitting 3 folds for each of 10 candidates, totalling 30 fits\n"
     ]
    },
    {
     "name": "stderr",
     "output_type": "stream",
     "text": [
      "/opt/anaconda3/lib/python3.8/site-packages/sklearn/ensemble/_forest.py:416: FutureWarning: `max_features='auto'` has been deprecated in 1.1 and will be removed in 1.3. To keep the past behaviour, explicitly set `max_features=1.0` or remove this parameter as it is also the default value for RandomForestRegressors and ExtraTreesRegressors.\n",
      "  warn(\n",
      "/opt/anaconda3/lib/python3.8/site-packages/sklearn/ensemble/_forest.py:416: FutureWarning: `max_features='auto'` has been deprecated in 1.1 and will be removed in 1.3. To keep the past behaviour, explicitly set `max_features=1.0` or remove this parameter as it is also the default value for RandomForestRegressors and ExtraTreesRegressors.\n",
      "  warn(\n",
      "/opt/anaconda3/lib/python3.8/site-packages/sklearn/ensemble/_forest.py:416: FutureWarning: `max_features='auto'` has been deprecated in 1.1 and will be removed in 1.3. To keep the past behaviour, explicitly set `max_features=1.0` or remove this parameter as it is also the default value for RandomForestRegressors and ExtraTreesRegressors.\n",
      "  warn(\n"
     ]
    },
    {
     "name": "stdout",
     "output_type": "stream",
     "text": [
      "[CV] END bootstrap=True, max_depth=50, max_features=sqrt, min_samples_leaf=2, min_samples_split=10, n_estimators=200; total time=  18.3s\n",
      "[CV] END bootstrap=False, max_depth=90, max_features=sqrt, min_samples_leaf=4, min_samples_split=10, n_estimators=600; total time= 1.1min\n",
      "[CV] END bootstrap=False, max_depth=60, max_features=auto, min_samples_leaf=2, min_samples_split=2, n_estimators=600; total time= 6.1min\n",
      "[CV] END bootstrap=False, max_depth=80, max_features=auto, min_samples_leaf=1, min_samples_split=10, n_estimators=1000; total time=11.4min\n",
      "[CV] END bootstrap=False, max_depth=50, max_features=auto, min_samples_leaf=2, min_samples_split=2, n_estimators=2000; total time=27.8min\n",
      "[CV] END bootstrap=True, max_depth=50, max_features=sqrt, min_samples_leaf=2, min_samples_split=10, n_estimators=200; total time=  18.5s\n",
      "[CV] END bootstrap=False, max_depth=90, max_features=sqrt, min_samples_leaf=4, min_samples_split=10, n_estimators=600; total time= 1.1min\n",
      "[CV] END bootstrap=True, max_depth=30, max_features=sqrt, min_samples_leaf=1, min_samples_split=5, n_estimators=1400; total time= 2.0min\n",
      "[CV] END bootstrap=True, max_depth=30, max_features=sqrt, min_samples_leaf=1, min_samples_split=5, n_estimators=1400; total time= 2.0min\n",
      "[CV] END bootstrap=True, max_depth=30, max_features=sqrt, min_samples_leaf=1, min_samples_split=5, n_estimators=1400; total time= 2.0min\n",
      "[CV] END bootstrap=False, max_depth=80, max_features=auto, min_samples_leaf=1, min_samples_split=10, n_estimators=1000; total time=12.3min\n",
      "[CV] END bootstrap=True, max_depth=10, max_features=sqrt, min_samples_leaf=2, min_samples_split=5, n_estimators=200; total time=   8.5s\n",
      "[CV] END bootstrap=True, max_depth=10, max_features=sqrt, min_samples_leaf=2, min_samples_split=5, n_estimators=200; total time=   7.5s\n",
      "[CV] END bootstrap=True, max_depth=10, max_features=sqrt, min_samples_leaf=2, min_samples_split=5, n_estimators=200; total time=   7.6s\n",
      "[CV] END bootstrap=True, max_depth=100, max_features=auto, min_samples_leaf=4, min_samples_split=2, n_estimators=1200; total time= 8.4min\n",
      "[CV] END bootstrap=True, max_depth=100, max_features=auto, min_samples_leaf=4, min_samples_split=2, n_estimators=1200; total time=10.5min\n",
      "[CV] END bootstrap=True, max_depth=50, max_features=auto, min_samples_leaf=2, min_samples_split=5, n_estimators=2000; total time=14.7min\n"
     ]
    },
    {
     "name": "stderr",
     "output_type": "stream",
     "text": [
      "/opt/anaconda3/lib/python3.8/site-packages/sklearn/ensemble/_forest.py:416: FutureWarning: `max_features='auto'` has been deprecated in 1.1 and will be removed in 1.3. To keep the past behaviour, explicitly set `max_features=1.0` or remove this parameter as it is also the default value for RandomForestRegressors and ExtraTreesRegressors.\n",
      "  warn(\n",
      "/opt/anaconda3/lib/python3.8/site-packages/sklearn/ensemble/_forest.py:416: FutureWarning: `max_features='auto'` has been deprecated in 1.1 and will be removed in 1.3. To keep the past behaviour, explicitly set `max_features=1.0` or remove this parameter as it is also the default value for RandomForestRegressors and ExtraTreesRegressors.\n",
      "  warn(\n",
      "/opt/anaconda3/lib/python3.8/site-packages/sklearn/ensemble/_forest.py:416: FutureWarning: `max_features='auto'` has been deprecated in 1.1 and will be removed in 1.3. To keep the past behaviour, explicitly set `max_features=1.0` or remove this parameter as it is also the default value for RandomForestRegressors and ExtraTreesRegressors.\n",
      "  warn(\n",
      "/opt/anaconda3/lib/python3.8/site-packages/sklearn/ensemble/_forest.py:416: FutureWarning: `max_features='auto'` has been deprecated in 1.1 and will be removed in 1.3. To keep the past behaviour, explicitly set `max_features=1.0` or remove this parameter as it is also the default value for RandomForestRegressors and ExtraTreesRegressors.\n",
      "  warn(\n"
     ]
    },
    {
     "name": "stdout",
     "output_type": "stream",
     "text": [
      "[CV] END bootstrap=True, max_depth=50, max_features=sqrt, min_samples_leaf=2, min_samples_split=10, n_estimators=200; total time=  18.7s\n",
      "[CV] END bootstrap=False, max_depth=60, max_features=auto, min_samples_leaf=2, min_samples_split=2, n_estimators=600; total time= 6.7min\n",
      "[CV] END bootstrap=False, max_depth=80, max_features=auto, min_samples_leaf=1, min_samples_split=10, n_estimators=1000; total time=12.0min\n",
      "[CV] END bootstrap=False, max_depth=50, max_features=auto, min_samples_leaf=2, min_samples_split=2, n_estimators=2000; total time=25.8min\n",
      "[CV] END bootstrap=True, max_depth=50, max_features=auto, min_samples_leaf=2, min_samples_split=5, n_estimators=2000; total time=11.8min\n"
     ]
    },
    {
     "name": "stderr",
     "output_type": "stream",
     "text": [
      "/opt/anaconda3/lib/python3.8/site-packages/sklearn/ensemble/_forest.py:416: FutureWarning: `max_features='auto'` has been deprecated in 1.1 and will be removed in 1.3. To keep the past behaviour, explicitly set `max_features=1.0` or remove this parameter as it is also the default value for RandomForestRegressors and ExtraTreesRegressors.\n",
      "  warn(\n",
      "/opt/anaconda3/lib/python3.8/site-packages/sklearn/ensemble/_forest.py:416: FutureWarning: `max_features='auto'` has been deprecated in 1.1 and will be removed in 1.3. To keep the past behaviour, explicitly set `max_features=1.0` or remove this parameter as it is also the default value for RandomForestRegressors and ExtraTreesRegressors.\n",
      "  warn(\n",
      "/opt/anaconda3/lib/python3.8/site-packages/sklearn/ensemble/_forest.py:416: FutureWarning: `max_features='auto'` has been deprecated in 1.1 and will be removed in 1.3. To keep the past behaviour, explicitly set `max_features=1.0` or remove this parameter as it is also the default value for RandomForestRegressors and ExtraTreesRegressors.\n",
      "  warn(\n",
      "/opt/anaconda3/lib/python3.8/site-packages/sklearn/ensemble/_forest.py:416: FutureWarning: `max_features='auto'` has been deprecated in 1.1 and will be removed in 1.3. To keep the past behaviour, explicitly set `max_features=1.0` or remove this parameter as it is also the default value for RandomForestRegressors and ExtraTreesRegressors.\n",
      "  warn(\n"
     ]
    },
    {
     "name": "stdout",
     "output_type": "stream",
     "text": [
      "[CV] END bootstrap=False, max_depth=90, max_features=sqrt, min_samples_leaf=4, min_samples_split=10, n_estimators=600; total time= 1.2min\n",
      "[CV] END bootstrap=False, max_depth=60, max_features=auto, min_samples_leaf=2, min_samples_split=2, n_estimators=600; total time= 6.5min\n",
      "[CV] END bootstrap=False, max_depth=60, max_features=sqrt, min_samples_leaf=1, min_samples_split=10, n_estimators=400; total time=  45.3s\n",
      "[CV] END bootstrap=False, max_depth=60, max_features=sqrt, min_samples_leaf=1, min_samples_split=10, n_estimators=400; total time=  45.6s\n",
      "[CV] END bootstrap=False, max_depth=60, max_features=sqrt, min_samples_leaf=1, min_samples_split=10, n_estimators=400; total time=  45.9s\n",
      "[CV] END bootstrap=False, max_depth=50, max_features=auto, min_samples_leaf=2, min_samples_split=2, n_estimators=2000; total time=26.3min\n",
      "[CV] END bootstrap=True, max_depth=100, max_features=auto, min_samples_leaf=4, min_samples_split=2, n_estimators=1200; total time= 9.6min\n",
      "[CV] END bootstrap=True, max_depth=50, max_features=auto, min_samples_leaf=2, min_samples_split=5, n_estimators=2000; total time=10.9min\n"
     ]
    },
    {
     "name": "stderr",
     "output_type": "stream",
     "text": [
      "/opt/anaconda3/lib/python3.8/site-packages/sklearn/ensemble/_forest.py:416: FutureWarning: `max_features='auto'` has been deprecated in 1.1 and will be removed in 1.3. To keep the past behaviour, explicitly set `max_features=1.0` or remove this parameter as it is also the default value for RandomForestRegressors and ExtraTreesRegressors.\n",
      "  warn(\n",
      "/opt/anaconda3/lib/python3.8/site-packages/sklearn/ensemble/_forest.py:416: FutureWarning: `max_features='auto'` has been deprecated in 1.1 and will be removed in 1.3. To keep the past behaviour, explicitly set `max_features=1.0` or remove this parameter as it is also the default value for RandomForestRegressors and ExtraTreesRegressors.\n",
      "  warn(\n",
      "/opt/anaconda3/lib/python3.8/site-packages/sklearn/ensemble/_forest.py:416: FutureWarning: `max_features='auto'` has been deprecated in 1.1 and will be removed in 1.3. To keep the past behaviour, explicitly set `max_features=1.0` or remove this parameter as it is also the default value for RandomForestRegressors and ExtraTreesRegressors.\n",
      "  warn(\n",
      "/opt/anaconda3/lib/python3.8/site-packages/sklearn/ensemble/_forest.py:416: FutureWarning: `max_features='auto'` has been deprecated in 1.1 and will be removed in 1.3. To keep the past behaviour, explicitly set `max_features=1.0` or remove this parameter as it is also the default value for RandomForestRegressors and ExtraTreesRegressors.\n",
      "  warn(\n"
     ]
    }
   ],
   "source": [
    "rf = RandomForestRegressor()\n",
    "\n",
    "#Number of trees in the forest\n",
    "n_estimators = [int(x) for x in np.linspace(start = 200, stop=2000,num=10)]\n",
    "max_features = ['auto', 'sqrt']\n",
    "max_depth = [int(x) for x in np.linspace(10, 110, num=11)]\n",
    "max_depth.append(None)\n",
    "min_samples_split = [2,5,10]\n",
    "min_samples_leaf = [1, 2, 4]\n",
    "bootstrap = [True, False]\n",
    "\n",
    "random_grid = {'n_estimators': n_estimators,\n",
    "        'max_features': max_features,\n",
    "        'max_depth': max_depth,\n",
    "        'min_samples_split': min_samples_split,\n",
    "        'min_samples_leaf': min_samples_leaf,\n",
    "        'bootstrap': bootstrap}\n",
    "\n",
    "rf_random = RandomizedSearchCV(estimator=rf, param_distributions = random_grid, n_iter=10, cv = 3, verbose=2, random_state=42, n_jobs=-1)\n",
    "\n",
    "rf_random.fit(X_train, y_train)\n",
    "\n",
    "best_random = rf_random.best_estimator_"
   ]
  },
  {
   "cell_type": "code",
   "execution_count": 128,
   "id": "81849369",
   "metadata": {},
   "outputs": [
    {
     "data": {
      "text/html": [
       "<style>#sk-container-id-2 {color: black;background-color: white;}#sk-container-id-2 pre{padding: 0;}#sk-container-id-2 div.sk-toggleable {background-color: white;}#sk-container-id-2 label.sk-toggleable__label {cursor: pointer;display: block;width: 100%;margin-bottom: 0;padding: 0.3em;box-sizing: border-box;text-align: center;}#sk-container-id-2 label.sk-toggleable__label-arrow:before {content: \"▸\";float: left;margin-right: 0.25em;color: #696969;}#sk-container-id-2 label.sk-toggleable__label-arrow:hover:before {color: black;}#sk-container-id-2 div.sk-estimator:hover label.sk-toggleable__label-arrow:before {color: black;}#sk-container-id-2 div.sk-toggleable__content {max-height: 0;max-width: 0;overflow: hidden;text-align: left;background-color: #f0f8ff;}#sk-container-id-2 div.sk-toggleable__content pre {margin: 0.2em;color: black;border-radius: 0.25em;background-color: #f0f8ff;}#sk-container-id-2 input.sk-toggleable__control:checked~div.sk-toggleable__content {max-height: 200px;max-width: 100%;overflow: auto;}#sk-container-id-2 input.sk-toggleable__control:checked~label.sk-toggleable__label-arrow:before {content: \"▾\";}#sk-container-id-2 div.sk-estimator input.sk-toggleable__control:checked~label.sk-toggleable__label {background-color: #d4ebff;}#sk-container-id-2 div.sk-label input.sk-toggleable__control:checked~label.sk-toggleable__label {background-color: #d4ebff;}#sk-container-id-2 input.sk-hidden--visually {border: 0;clip: rect(1px 1px 1px 1px);clip: rect(1px, 1px, 1px, 1px);height: 1px;margin: -1px;overflow: hidden;padding: 0;position: absolute;width: 1px;}#sk-container-id-2 div.sk-estimator {font-family: monospace;background-color: #f0f8ff;border: 1px dotted black;border-radius: 0.25em;box-sizing: border-box;margin-bottom: 0.5em;}#sk-container-id-2 div.sk-estimator:hover {background-color: #d4ebff;}#sk-container-id-2 div.sk-parallel-item::after {content: \"\";width: 100%;border-bottom: 1px solid gray;flex-grow: 1;}#sk-container-id-2 div.sk-label:hover label.sk-toggleable__label {background-color: #d4ebff;}#sk-container-id-2 div.sk-serial::before {content: \"\";position: absolute;border-left: 1px solid gray;box-sizing: border-box;top: 0;bottom: 0;left: 50%;z-index: 0;}#sk-container-id-2 div.sk-serial {display: flex;flex-direction: column;align-items: center;background-color: white;padding-right: 0.2em;padding-left: 0.2em;position: relative;}#sk-container-id-2 div.sk-item {position: relative;z-index: 1;}#sk-container-id-2 div.sk-parallel {display: flex;align-items: stretch;justify-content: center;background-color: white;position: relative;}#sk-container-id-2 div.sk-item::before, #sk-container-id-2 div.sk-parallel-item::before {content: \"\";position: absolute;border-left: 1px solid gray;box-sizing: border-box;top: 0;bottom: 0;left: 50%;z-index: -1;}#sk-container-id-2 div.sk-parallel-item {display: flex;flex-direction: column;z-index: 1;position: relative;background-color: white;}#sk-container-id-2 div.sk-parallel-item:first-child::after {align-self: flex-end;width: 50%;}#sk-container-id-2 div.sk-parallel-item:last-child::after {align-self: flex-start;width: 50%;}#sk-container-id-2 div.sk-parallel-item:only-child::after {width: 0;}#sk-container-id-2 div.sk-dashed-wrapped {border: 1px dashed gray;margin: 0 0.4em 0.5em 0.4em;box-sizing: border-box;padding-bottom: 0.4em;background-color: white;}#sk-container-id-2 div.sk-label label {font-family: monospace;font-weight: bold;display: inline-block;line-height: 1.2em;}#sk-container-id-2 div.sk-label-container {text-align: center;}#sk-container-id-2 div.sk-container {/* jupyter's `normalize.less` sets `[hidden] { display: none; }` but bootstrap.min.css set `[hidden] { display: none !important; }` so we also need the `!important` here to be able to override the default hidden behavior on the sphinx rendered scikit-learn.org. See: https://github.com/scikit-learn/scikit-learn/issues/21755 */display: inline-block !important;position: relative;}#sk-container-id-2 div.sk-text-repr-fallback {display: none;}</style><div id=\"sk-container-id-2\" class=\"sk-top-container\"><div class=\"sk-text-repr-fallback\"><pre>RandomForestRegressor(max_depth=30, max_features=&#x27;sqrt&#x27;, min_samples_split=5,\n",
       "                      n_estimators=1400)</pre><b>In a Jupyter environment, please rerun this cell to show the HTML representation or trust the notebook. <br />On GitHub, the HTML representation is unable to render, please try loading this page with nbviewer.org.</b></div><div class=\"sk-container\" hidden><div class=\"sk-item\"><div class=\"sk-estimator sk-toggleable\"><input class=\"sk-toggleable__control sk-hidden--visually\" id=\"sk-estimator-id-4\" type=\"checkbox\" checked><label for=\"sk-estimator-id-4\" class=\"sk-toggleable__label sk-toggleable__label-arrow\">RandomForestRegressor</label><div class=\"sk-toggleable__content\"><pre>RandomForestRegressor(max_depth=30, max_features=&#x27;sqrt&#x27;, min_samples_split=5,\n",
       "                      n_estimators=1400)</pre></div></div></div></div></div>"
      ],
      "text/plain": [
       "RandomForestRegressor(max_depth=30, max_features='sqrt', min_samples_split=5,\n",
       "                      n_estimators=1400)"
      ]
     },
     "execution_count": 128,
     "metadata": {},
     "output_type": "execute_result"
    }
   ],
   "source": [
    "best_random"
   ]
  },
  {
   "cell_type": "code",
   "execution_count": 130,
   "id": "2c32e1bb",
   "metadata": {},
   "outputs": [],
   "source": [
    "best_random = RandomForestRegressor(bootstrap=True, criterion='mse', max_depth=30,\n",
    "                      max_features='sqrt', max_leaf_nodes=None,\n",
    "                      min_impurity_decrease=0.0,\n",
    "                      min_samples_leaf=1, min_samples_split=5,\n",
    "                      min_weight_fraction_leaf=0.0, n_estimators=1400,\n",
    "                      n_jobs=None, oob_score=False, random_state=42, verbose=0,\n",
    "                      warm_start=False)\n",
    "rfr_CV_best = -rmse_cv(best_random)\n",
    "best_random.fit(X_train, y_train) \n",
    "y_train_rfr = best_random.predict(X_train)\n",
    "y_test_rfr = best_random.predict(X_test)"
   ]
  },
  {
   "cell_type": "code",
   "execution_count": 131,
   "id": "b55f313f",
   "metadata": {},
   "outputs": [
    {
     "data": {
      "text/html": [
       "<div>\n",
       "<style scoped>\n",
       "    .dataframe tbody tr th:only-of-type {\n",
       "        vertical-align: middle;\n",
       "    }\n",
       "\n",
       "    .dataframe tbody tr th {\n",
       "        vertical-align: top;\n",
       "    }\n",
       "\n",
       "    .dataframe thead th {\n",
       "        text-align: right;\n",
       "    }\n",
       "</style>\n",
       "<table border=\"1\" class=\"dataframe\">\n",
       "  <thead>\n",
       "    <tr style=\"text-align: right;\">\n",
       "      <th></th>\n",
       "      <th>Algorithm</th>\n",
       "      <th>Training_MAE</th>\n",
       "      <th>Training_MSE</th>\n",
       "      <th>Training_RMSE</th>\n",
       "      <th>Training_R2 Square</th>\n",
       "    </tr>\n",
       "  </thead>\n",
       "  <tbody>\n",
       "    <tr>\n",
       "      <th>0</th>\n",
       "      <td>Random Forest</td>\n",
       "      <td>44.560461</td>\n",
       "      <td>15052.800433</td>\n",
       "      <td>122.689855</td>\n",
       "      <td>0.641924</td>\n",
       "    </tr>\n",
       "  </tbody>\n",
       "</table>\n",
       "</div>"
      ],
      "text/plain": [
       "       Algorithm  Training_MAE  Training_MSE  Training_RMSE  \\\n",
       "0  Random Forest     44.560461  15052.800433     122.689855   \n",
       "\n",
       "   Training_R2 Square  \n",
       "0            0.641924  "
      ]
     },
     "execution_count": 131,
     "metadata": {},
     "output_type": "execute_result"
    }
   ],
   "source": [
    "evaluation(y_train, y_train_rfr,mode='Training',model='Random Forest')"
   ]
  },
  {
   "cell_type": "code",
   "execution_count": 132,
   "id": "417ca621",
   "metadata": {},
   "outputs": [
    {
     "data": {
      "text/html": [
       "<div>\n",
       "<style scoped>\n",
       "    .dataframe tbody tr th:only-of-type {\n",
       "        vertical-align: middle;\n",
       "    }\n",
       "\n",
       "    .dataframe tbody tr th {\n",
       "        vertical-align: top;\n",
       "    }\n",
       "\n",
       "    .dataframe thead th {\n",
       "        text-align: right;\n",
       "    }\n",
       "</style>\n",
       "<table border=\"1\" class=\"dataframe\">\n",
       "  <thead>\n",
       "    <tr style=\"text-align: right;\">\n",
       "      <th></th>\n",
       "      <th>Algorithm</th>\n",
       "      <th>Test_MAE</th>\n",
       "      <th>Test_MSE</th>\n",
       "      <th>Test_RMSE</th>\n",
       "      <th>Test_R2 Square</th>\n",
       "    </tr>\n",
       "  </thead>\n",
       "  <tbody>\n",
       "    <tr>\n",
       "      <th>0</th>\n",
       "      <td>Random Forest</td>\n",
       "      <td>63.392379</td>\n",
       "      <td>39559.025456</td>\n",
       "      <td>198.894508</td>\n",
       "      <td>0.165472</td>\n",
       "    </tr>\n",
       "  </tbody>\n",
       "</table>\n",
       "</div>"
      ],
      "text/plain": [
       "       Algorithm   Test_MAE      Test_MSE   Test_RMSE  Test_R2 Square\n",
       "0  Random Forest  63.392379  39559.025456  198.894508        0.165472"
      ]
     },
     "execution_count": 132,
     "metadata": {},
     "output_type": "execute_result"
    }
   ],
   "source": [
    "evaluation(y_test, y_test_rfr,mode='Test',model='Random Forest')"
   ]
  },
  {
   "cell_type": "code",
   "execution_count": null,
   "id": "42689397",
   "metadata": {},
   "outputs": [],
   "source": []
  }
 ],
 "metadata": {
  "kernelspec": {
   "display_name": "Python 3",
   "language": "python",
   "name": "python3"
  },
  "language_info": {
   "codemirror_mode": {
    "name": "ipython",
    "version": 3
   },
   "file_extension": ".py",
   "mimetype": "text/x-python",
   "name": "python",
   "nbconvert_exporter": "python",
   "pygments_lexer": "ipython3",
   "version": "3.8.3"
  }
 },
 "nbformat": 4,
 "nbformat_minor": 5
}
